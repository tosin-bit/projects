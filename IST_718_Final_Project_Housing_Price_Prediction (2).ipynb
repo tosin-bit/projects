{
  "nbformat": 4,
  "nbformat_minor": 0,
  "metadata": {
    "colab": {
      "provenance": []
    },
    "kernelspec": {
      "name": "python3",
      "display_name": "Python 3"
    },
    "language_info": {
      "name": "python"
    }
  },
  "cells": [
    {
      "cell_type": "code",
      "execution_count": null,
      "metadata": {
        "colab": {
          "base_uri": "https://localhost:8080/"
        },
        "id": "34Ox38AVeoW6",
        "outputId": "bea7cb06-0d1f-40d0-f124-75161c7dffde"
      },
      "outputs": [
        {
          "output_type": "stream",
          "name": "stdout",
          "text": [
            "Requirement already satisfied: pyspark in /usr/local/lib/python3.7/dist-packages (3.2.1)\n",
            "Requirement already satisfied: py4j==0.10.9.3 in /usr/local/lib/python3.7/dist-packages (from pyspark) (0.10.9.3)\n"
          ]
        },
        {
          "output_type": "stream",
          "name": "stderr",
          "text": [
            "bash: line 6: syntax error near unexpected token `fi'\n",
            "bash: line 6: `fi'\n"
          ]
        }
      ],
      "source": [
        "%%bash\n",
        "# Do not change or modify this cell\n",
        "# Need to install pyspark\n",
        "# if pyspark is already installed, will print a message indicating pyspark already installed\n",
        "pip install pyspark\n",
        "\n",
        "fi"
      ]
    },
    {
      "cell_type": "code",
      "source": [
        "import os\n",
        "import pandas as pd\n",
        "import numpy as np\n",
        "\n",
        "from pyspark import SparkConf, SparkContext\n",
        "from pyspark.sql import SparkSession, SQLContext\n",
        "\n",
        "from pyspark.sql.types import *\n",
        "import pyspark.sql.functions as F\n",
        "from pyspark.sql.functions import udf, col\n",
        "\n",
        "from pyspark.ml.regression import LinearRegression\n",
        "from pyspark.mllib.evaluation import RegressionMetrics\n",
        "\n",
        "from pyspark.ml.tuning import ParamGridBuilder, CrossValidator, CrossValidatorModel\n",
        "from pyspark.ml.feature import VectorAssembler, StandardScaler\n",
        "from pyspark.ml.evaluation import RegressionEvaluator\n",
        "\n",
        "import seaborn as sns\n",
        "import matplotlib.pyplot as plt"
      ],
      "metadata": {
        "id": "JfD3OYeQfWem"
      },
      "execution_count": null,
      "outputs": []
    },
    {
      "cell_type": "code",
      "source": [
        "!wget https://raw.githubusercontent.com/zakhikhan/dataset/main/cal_housing.data"
      ],
      "metadata": {
        "colab": {
          "base_uri": "https://localhost:8080/"
        },
        "id": "FpFIZrzzIMr8",
        "outputId": "8481c59d-3a38-44f6-b5f0-cd9575d5d30d"
      },
      "execution_count": null,
      "outputs": [
        {
          "output_type": "stream",
          "name": "stdout",
          "text": [
            "--2022-05-03 16:06:32--  https://raw.githubusercontent.com/zakhikhan/dataset/main/cal_housing.data\n",
            "Resolving raw.githubusercontent.com (raw.githubusercontent.com)... 185.199.108.133, 185.199.110.133, 185.199.109.133, ...\n",
            "Connecting to raw.githubusercontent.com (raw.githubusercontent.com)|185.199.108.133|:443... connected.\n",
            "HTTP request sent, awaiting response... 200 OK\n",
            "Length: 2071484 (2.0M) [text/plain]\n",
            "Saving to: ‘cal_housing.data.3’\n",
            "\n",
            "cal_housing.data.3  100%[===================>]   1.97M  --.-KB/s    in 0.04s   \n",
            "\n",
            "2022-05-03 16:06:32 (44.1 MB/s) - ‘cal_housing.data.3’ saved [2071484/2071484]\n",
            "\n"
          ]
        }
      ]
    },
    {
      "cell_type": "code",
      "source": [
        "spark = SparkSession.builder.master(\"local[*]\").appName(\"IST 718 Final Project\").getOrCreate()"
      ],
      "metadata": {
        "id": "t1tSO6v0Jl6u"
      },
      "execution_count": null,
      "outputs": []
    },
    {
      "cell_type": "code",
      "source": [
        "sc = spark.sparkContext\n",
        "sc"
      ],
      "metadata": {
        "colab": {
          "base_uri": "https://localhost:8080/",
          "height": 197
        },
        "id": "hLz3pgJpJxOr",
        "outputId": "6c40a782-3061-479f-a6c9-f23aa8a0b580"
      },
      "execution_count": null,
      "outputs": [
        {
          "output_type": "execute_result",
          "data": {
            "text/plain": [
              "<SparkContext master=local[2] appName=Linear-Regression-California-Housing>"
            ],
            "text/html": [
              "\n",
              "        <div>\n",
              "            <p><b>SparkContext</b></p>\n",
              "\n",
              "            <p><a href=\"http://0d3a4e2a8c67:4040\">Spark UI</a></p>\n",
              "\n",
              "            <dl>\n",
              "              <dt>Version</dt>\n",
              "                <dd><code>v3.2.1</code></dd>\n",
              "              <dt>Master</dt>\n",
              "                <dd><code>local[2]</code></dd>\n",
              "              <dt>AppName</dt>\n",
              "                <dd><code>Linear-Regression-California-Housing</code></dd>\n",
              "            </dl>\n",
              "        </div>\n",
              "        "
            ]
          },
          "metadata": {},
          "execution_count": 141
        }
      ]
    },
    {
      "cell_type": "code",
      "source": [
        "schema = StructType([\n",
        "    StructField(\"long\", FloatType(), nullable=True),\n",
        "    StructField(\"lat\", FloatType(), nullable=True),\n",
        "    StructField(\"medianage\", FloatType(), nullable=True),\n",
        "    StructField(\"rooms\", FloatType(), nullable=True),\n",
        "    StructField(\"bedrooms\", FloatType(), nullable=True),\n",
        "    StructField(\"population\", FloatType(), nullable=True),\n",
        "    StructField(\"households\", FloatType(), nullable=True),\n",
        "    StructField(\"medianincome\", FloatType(), nullable=True),\n",
        "    StructField(\"medianhousevalue\", FloatType(), nullable=True)]\n",
        ")"
      ],
      "metadata": {
        "id": "cgbkwlcdfWTo"
      },
      "execution_count": null,
      "outputs": []
    },
    {
      "cell_type": "code",
      "source": [
        "housing_california = '/content/cal_housing.data'"
      ],
      "metadata": {
        "id": "ElhUxkIRfWZa"
      },
      "execution_count": null,
      "outputs": []
    },
    {
      "cell_type": "code",
      "source": [
        "df = spark.read.csv(path = housing_california, schema = schema)\n"
      ],
      "metadata": {
        "id": "5zAe5Y7_fWWx"
      },
      "execution_count": null,
      "outputs": []
    },
    {
      "cell_type": "code",
      "source": [
        "df.show(5)"
      ],
      "metadata": {
        "colab": {
          "base_uri": "https://localhost:8080/"
        },
        "id": "aFO1i0AMfWCV",
        "outputId": "66624b64-1c01-43b8-bbb0-727639848a5a"
      },
      "execution_count": null,
      "outputs": [
        {
          "output_type": "stream",
          "name": "stdout",
          "text": [
            "+-------+-----+---------+------+--------+----------+----------+------------+----------------+\n",
            "|   long|  lat|medianage| rooms|bedrooms|population|households|medianincome|medianhousevalue|\n",
            "+-------+-----+---------+------+--------+----------+----------+------------+----------------+\n",
            "|-122.23|37.88|     41.0| 880.0|   129.0|     322.0|     126.0|      8.3252|        452600.0|\n",
            "|-122.22|37.86|     21.0|7099.0|  1106.0|    2401.0|    1138.0|      8.3014|        358500.0|\n",
            "|-122.24|37.85|     52.0|1467.0|   190.0|     496.0|     177.0|      7.2574|        352100.0|\n",
            "|-122.25|37.85|     52.0|1274.0|   235.0|     558.0|     219.0|      5.6431|        341300.0|\n",
            "|-122.25|37.85|     52.0|1627.0|   280.0|     565.0|     259.0|      3.8462|        342200.0|\n",
            "+-------+-----+---------+------+--------+----------+----------+------------+----------------+\n",
            "only showing top 5 rows\n",
            "\n"
          ]
        }
      ]
    },
    {
      "cell_type": "code",
      "source": [
        "# show the dataframe columns\n",
        "df.columns"
      ],
      "metadata": {
        "colab": {
          "base_uri": "https://localhost:8080/"
        },
        "id": "BDHs15CEfV_v",
        "outputId": "80cd09e2-c9be-42cd-c565-fb61fbef82a4"
      },
      "execution_count": null,
      "outputs": [
        {
          "output_type": "execute_result",
          "data": {
            "text/plain": [
              "['long',\n",
              " 'lat',\n",
              " 'medianage',\n",
              " 'rooms',\n",
              " 'bedrooms',\n",
              " 'population',\n",
              " 'households',\n",
              " 'medianincome',\n",
              " 'medianhousevalue']"
            ]
          },
          "metadata": {},
          "execution_count": 146
        }
      ]
    },
    {
      "cell_type": "code",
      "source": [
        "df.select('population','bedrooms').show(10)"
      ],
      "metadata": {
        "colab": {
          "base_uri": "https://localhost:8080/"
        },
        "id": "eXsd99y4fV9L",
        "outputId": "8ada8b5a-6fb4-43d8-855d-c2a463bbc2d4"
      },
      "execution_count": null,
      "outputs": [
        {
          "output_type": "stream",
          "name": "stdout",
          "text": [
            "+----------+--------+\n",
            "|population|bedrooms|\n",
            "+----------+--------+\n",
            "|     322.0|   129.0|\n",
            "|    2401.0|  1106.0|\n",
            "|     496.0|   190.0|\n",
            "|     558.0|   235.0|\n",
            "|     565.0|   280.0|\n",
            "|     413.0|   213.0|\n",
            "|    1094.0|   489.0|\n",
            "|    1157.0|   687.0|\n",
            "|    1206.0|   665.0|\n",
            "|    1551.0|   707.0|\n",
            "+----------+--------+\n",
            "only showing top 10 rows\n",
            "\n"
          ]
        }
      ]
    },
    {
      "cell_type": "code",
      "source": [
        "result_df = df.groupBy(\"medianage\").count().sort(\"medianage\", ascending=False)\n",
        "result_df.show(10)\n"
      ],
      "metadata": {
        "colab": {
          "base_uri": "https://localhost:8080/"
        },
        "id": "7c4U6bJcngqp",
        "outputId": "17e264b5-f018-46d3-80c3-271fc391550d"
      },
      "execution_count": null,
      "outputs": [
        {
          "output_type": "stream",
          "name": "stdout",
          "text": [
            "+---------+-----+\n",
            "|medianage|count|\n",
            "+---------+-----+\n",
            "|     52.0| 1273|\n",
            "|     51.0|   48|\n",
            "|     50.0|  136|\n",
            "|     49.0|  134|\n",
            "|     48.0|  177|\n",
            "|     47.0|  198|\n",
            "|     46.0|  245|\n",
            "|     45.0|  294|\n",
            "|     44.0|  356|\n",
            "|     43.0|  353|\n",
            "+---------+-----+\n",
            "only showing top 10 rows\n",
            "\n"
          ]
        }
      ]
    },
    {
      "cell_type": "code",
      "source": [
        "result_df.toPandas().plot.bar(x='medianage',figsize=(14, 6))"
      ],
      "metadata": {
        "colab": {
          "base_uri": "https://localhost:8080/",
          "height": 418
        },
        "id": "Hwc45PIpngoR",
        "outputId": "c075b0f9-5dfb-439e-e9e6-a83206b32a61"
      },
      "execution_count": null,
      "outputs": [
        {
          "output_type": "execute_result",
          "data": {
            "text/plain": [
              "<matplotlib.axes._subplots.AxesSubplot at 0x7ff6d0deab50>"
            ]
          },
          "metadata": {},
          "execution_count": 149
        },
        {
          "output_type": "display_data",
          "data": {
            "text/plain": [
              "<Figure size 1008x432 with 1 Axes>"
            ],
            "image/png": "[encoded data removed]"
          },
          "metadata": {
            "needs_background": "light"
          }
        }
      ]
    },
    {
      "cell_type": "markdown",
      "source": [
        "Most of the residents are either in their youth or they settle here during their senior years. "
      ],
      "metadata": {
        "id": "NXvC_Uw8r4xL"
      }
    },
    {
      "cell_type": "code",
      "source": [
        "df.describe()"
      ],
      "metadata": {
        "colab": {
          "base_uri": "https://localhost:8080/"
        },
        "id": "4PMg9rHVnglE",
        "outputId": "45b8052f-efa3-420c-d61f-07167726ff7e"
      },
      "execution_count": null,
      "outputs": [
        {
          "output_type": "execute_result",
          "data": {
            "text/plain": [
              "DataFrame[summary: string, long: string, lat: string, medianage: string, rooms: string, bedrooms: string, population: string, households: string, medianincome: string, medianhousevalue: string]"
            ]
          },
          "metadata": {},
          "execution_count": 150
        }
      ]
    },
    {
      "cell_type": "code",
      "source": [
        "(df.describe().select(\n",
        "                    \"summary\",\n",
        "                    F.round(\"medianage\", 4).alias(\"medianage\"),\n",
        "                    F.round(\"rooms\", 4).alias(\"rooms\"),\n",
        "                    F.round(\"bedrooms\", 4).alias(\"bedrooms\"),\n",
        "                    F.round(\"population\", 4).alias(\"population\"),\n",
        "                    F.round(\"households\", 4).alias(\"households\"),\n",
        "                    F.round(\"medianincome\", 4).alias(\"medianincome\"),\n",
        "                    F.round(\"medianhousevalue\", 4).alias(\"medianhousevalue\"))\n",
        "                    .show())"
      ],
      "metadata": {
        "colab": {
          "base_uri": "https://localhost:8080/"
        },
        "id": "0rI_IKfbnghO",
        "outputId": "8bd258c5-d3f3-452f-a932-708d041935cd"
      },
      "execution_count": null,
      "outputs": [
        {
          "output_type": "stream",
          "name": "stdout",
          "text": [
            "+-------+---------+---------+--------+----------+----------+------------+----------------+\n",
            "|summary|medianage|    rooms|bedrooms|population|households|medianincome|medianhousevalue|\n",
            "+-------+---------+---------+--------+----------+----------+------------+----------------+\n",
            "|  count|  20640.0|  20640.0| 20640.0|   20640.0|   20640.0|     20640.0|         20640.0|\n",
            "|   mean|  28.6395|2635.7631| 537.898| 1425.4767|  499.5397|      3.8707|     206855.8169|\n",
            "| stddev|  12.5856|2181.6153|421.2479| 1132.4621|  382.3298|      1.8998|     115395.6159|\n",
            "|    min|      1.0|      2.0|     1.0|       3.0|       1.0|      0.4999|         14999.0|\n",
            "|    max|     52.0|  39320.0|  6445.0|   35682.0|    6082.0|     15.0001|        500001.0|\n",
            "+-------+---------+---------+--------+----------+----------+------------+----------------+\n",
            "\n"
          ]
        }
      ]
    },
    {
      "cell_type": "markdown",
      "source": [
        "Looking at the minimum and maximum values of all the (numerical) attributes. We see that multiple attributes have a wide range of values: we will need to normalize your dataset."
      ],
      "metadata": {
        "id": "mR_qmHWVrrL5"
      }
    },
    {
      "cell_type": "markdown",
      "source": [
        "With all this information that we gathered from our small exploratory data analysis, we know enough to preprocess our data to feed it to the model.\n",
        "\n",
        "- we shouldn't care about missing values; all zero values have been excluded from the data set.\n",
        "- We should probably standardize our data, as we have seen that the range of minimum and maximum values is quite big.\n",
        "- There are possibly some additional attributes that we could add, such as a feature that registers the number of bedrooms per room or the rooms per household.\n",
        "- Our dependent variable is also quite big; To make our life easier, we'll have to adjust the values slightly."
      ],
      "metadata": {
        "id": "84zwP8cVrbaM"
      }
    },
    {
      "cell_type": "markdown",
      "source": [
        "# **Data Preprocessing**"
      ],
      "metadata": {
        "id": "zu2PotPzKohV"
      }
    },
    {
      "cell_type": "markdown",
      "source": [
        "First, let's start with the medianHouseValue, our dependent variable. To facilitate our working with the target values, we will express the house values in units of 100,000. That means that a target such as 452600.000000 should become 4.526"
      ],
      "metadata": {
        "id": "MjTO2szeLG9z"
      }
    },
    {
      "cell_type": "code",
      "source": [
        "df = df.withColumn(\"medianhousevalue\", col(\"medianhousevalue\")/100000)"
      ],
      "metadata": {
        "id": "vO5j60xCfV6k"
      },
      "execution_count": null,
      "outputs": []
    },
    {
      "cell_type": "code",
      "source": [
        "df.show(2)"
      ],
      "metadata": {
        "id": "-OxnDUsEfV38",
        "colab": {
          "base_uri": "https://localhost:8080/"
        },
        "outputId": "cdbf3556-627f-4dd1-bd5c-604ccb01552d"
      },
      "execution_count": null,
      "outputs": [
        {
          "output_type": "stream",
          "name": "stdout",
          "text": [
            "+-------+-----+---------+------+--------+----------+----------+------------+----------------+\n",
            "|   long|  lat|medianage| rooms|bedrooms|population|households|medianincome|medianhousevalue|\n",
            "+-------+-----+---------+------+--------+----------+----------+------------+----------------+\n",
            "|-122.23|37.88|     41.0| 880.0|   129.0|     322.0|     126.0|      8.3252|           4.526|\n",
            "|-122.22|37.86|     21.0|7099.0|  1106.0|    2401.0|    1138.0|      8.3014|           3.585|\n",
            "+-------+-----+---------+------+--------+----------+----------+------------+----------------+\n",
            "only showing top 2 rows\n",
            "\n"
          ]
        }
      ]
    },
    {
      "cell_type": "markdown",
      "source": [
        "# Feature Engineering "
      ],
      "metadata": {
        "id": "jwovbY83N2x1"
      }
    },
    {
      "cell_type": "markdown",
      "source": [
        "Now that we have adjusted the values in medianHouseValue, we will now add the following columns to the data set:\n",
        "\n",
        "- Rooms per household which refers to the number of rooms in households per block group;\n",
        "- Population per household, which basically gives us an indication of how many people live in households per block group; And\n",
        "- Bedrooms per room which will give us an idea about how many rooms are bedrooms per block group\n",
        "\n"
      ],
      "metadata": {
        "id": "THcHL-EJOgH3"
      }
    },
    {
      "cell_type": "code",
      "source": [
        "from pyspark.sql.functions import *\n",
        "df.select([count(when(isnull(c), c))\\\n",
        ".alias(c) for c in df.columns]).show()"
      ],
      "metadata": {
        "id": "jpc6tytufV1U",
        "colab": {
          "base_uri": "https://localhost:8080/"
        },
        "outputId": "f5952ddf-3a37-49ba-ea82-14f2107be7a8"
      },
      "execution_count": null,
      "outputs": [
        {
          "output_type": "stream",
          "name": "stdout",
          "text": [
            "+----+---+---------+-----+--------+----------+----------+------------+----------------+\n",
            "|long|lat|medianage|rooms|bedrooms|population|households|medianincome|medianhousevalue|\n",
            "+----+---+---------+-----+--------+----------+----------+------------+----------------+\n",
            "|   0|  0|        0|    0|       0|         0|         0|           0|               0|\n",
            "+----+---+---------+-----+--------+----------+----------+------------+----------------+\n",
            "\n"
          ]
        }
      ]
    },
    {
      "cell_type": "markdown",
      "source": [
        "#1. Given the other variables present in the dataset, can we predict the price of an unseen home?"
      ],
      "metadata": {
        "id": "yPbmIHiKeosV"
      }
    },
    {
      "cell_type": "code",
      "source": [
        "df.columns"
      ],
      "metadata": {
        "id": "4TC9rQwPfVib",
        "colab": {
          "base_uri": "https://localhost:8080/"
        },
        "outputId": "12146455-d2b2-4104-e7fa-a2383c72258f"
      },
      "execution_count": null,
      "outputs": [
        {
          "output_type": "execute_result",
          "data": {
            "text/plain": [
              "['long',\n",
              " 'lat',\n",
              " 'medianage',\n",
              " 'rooms',\n",
              " 'bedrooms',\n",
              " 'population',\n",
              " 'households',\n",
              " 'medianincome',\n",
              " 'medianhousevalue']"
            ]
          },
          "metadata": {},
          "execution_count": 155
        }
      ]
    },
    {
      "cell_type": "code",
      "source": [
        "df = (df.withColumn(\"roomsperhousehold\", F.round(col(\"rooms\")/col(\"households\"), 2))\n",
        "                  .withColumn(\"populationperhousehold\", F.round(col(\"population\")/col(\"households\"), 2))\n",
        "                  .withColumn(\"bedroomsperhousehold\", F.round(col(\"bedrooms\")/col(\"rooms\"), 2)))"
      ],
      "metadata": {
        "id": "nf7kV4TFfVXr"
      },
      "execution_count": null,
      "outputs": []
    },
    {
      "cell_type": "code",
      "source": [
        "df.show(5)"
      ],
      "metadata": {
        "colab": {
          "base_uri": "https://localhost:8080/"
        },
        "id": "tybDEG9PPF8X",
        "outputId": "746ef8a6-4a97-4e47-c58f-3679ab5e5681"
      },
      "execution_count": null,
      "outputs": [
        {
          "output_type": "stream",
          "name": "stdout",
          "text": [
            "+-------+-----+---------+------+--------+----------+----------+------------+----------------+-----------------+----------------------+--------------------+\n",
            "|   long|  lat|medianage| rooms|bedrooms|population|households|medianincome|medianhousevalue|roomsperhousehold|populationperhousehold|bedroomsperhousehold|\n",
            "+-------+-----+---------+------+--------+----------+----------+------------+----------------+-----------------+----------------------+--------------------+\n",
            "|-122.23|37.88|     41.0| 880.0|   129.0|     322.0|     126.0|      8.3252|           4.526|             6.98|                  2.56|                0.15|\n",
            "|-122.22|37.86|     21.0|7099.0|  1106.0|    2401.0|    1138.0|      8.3014|           3.585|             6.24|                  2.11|                0.16|\n",
            "|-122.24|37.85|     52.0|1467.0|   190.0|     496.0|     177.0|      7.2574|           3.521|             8.29|                   2.8|                0.13|\n",
            "|-122.25|37.85|     52.0|1274.0|   235.0|     558.0|     219.0|      5.6431|           3.413|             5.82|                  2.55|                0.18|\n",
            "|-122.25|37.85|     52.0|1627.0|   280.0|     565.0|     259.0|      3.8462|           3.422|             6.28|                  2.18|                0.17|\n",
            "+-------+-----+---------+------+--------+----------+----------+------------+----------------+-----------------+----------------------+--------------------+\n",
            "only showing top 5 rows\n",
            "\n"
          ]
        }
      ]
    },
    {
      "cell_type": "code",
      "source": [
        "df_new = df.select(\"medianhousevalue\", \n",
        "                \"bedrooms\", \n",
        "                \"population\", \n",
        "                \"households\", \n",
        "                \"medianincome\", \n",
        "                \"roomsperhousehold\", \n",
        "                \"populationperhousehold\", \n",
        "                \"bedroomsperhousehold\")"
      ],
      "metadata": {
        "id": "Zasqg3jIQatI"
      },
      "execution_count": null,
      "outputs": []
    },
    {
      "cell_type": "code",
      "source": [
        "featureCols = [\"bedrooms\", \"population\", \"households\", \"medianincome\", \"roomsperhousehold\", \"populationperhousehold\", \"bedroomsperhousehold\"]"
      ],
      "metadata": {
        "id": "Or10-wH5Qaqv"
      },
      "execution_count": null,
      "outputs": []
    },
    {
      "cell_type": "code",
      "source": [
        "assembler = VectorAssembler(inputCols=featureCols, outputCol=\"features\") \n",
        "assembled_df = assembler.transform(df_new)\n",
        "assembled_df.show(10, truncate=False)"
      ],
      "metadata": {
        "colab": {
          "base_uri": "https://localhost:8080/"
        },
        "id": "tqfeL_KLQaoh",
        "outputId": "26d76c56-34e3-44e0-950c-d1fbf667ae6d"
      },
      "execution_count": null,
      "outputs": [
        {
          "output_type": "stream",
          "name": "stdout",
          "text": [
            "+----------------+--------+----------+----------+------------+-----------------+----------------------+--------------------+-------------------------------------------------------+\n",
            "|medianhousevalue|bedrooms|population|households|medianincome|roomsperhousehold|populationperhousehold|bedroomsperhousehold|features                                               |\n",
            "+----------------+--------+----------+----------+------------+-----------------+----------------------+--------------------+-------------------------------------------------------+\n",
            "|4.526           |129.0   |322.0     |126.0     |8.3252      |6.98             |2.56                  |0.15                |[129.0,322.0,126.0,8.325200080871582,6.98,2.56,0.15]   |\n",
            "|3.585           |1106.0  |2401.0    |1138.0    |8.3014      |6.24             |2.11                  |0.16                |[1106.0,2401.0,1138.0,8.301400184631348,6.24,2.11,0.16]|\n",
            "|3.521           |190.0   |496.0     |177.0     |7.2574      |8.29             |2.8                   |0.13                |[190.0,496.0,177.0,7.257400035858154,8.29,2.8,0.13]    |\n",
            "|3.413           |235.0   |558.0     |219.0     |5.6431      |5.82             |2.55                  |0.18                |[235.0,558.0,219.0,5.643099784851074,5.82,2.55,0.18]   |\n",
            "|3.422           |280.0   |565.0     |259.0     |3.8462      |6.28             |2.18                  |0.17                |[280.0,565.0,259.0,3.8461999893188477,6.28,2.18,0.17]  |\n",
            "|2.697           |213.0   |413.0     |193.0     |4.0368      |4.76             |2.14                  |0.23                |[213.0,413.0,193.0,4.036799907684326,4.76,2.14,0.23]   |\n",
            "|2.992           |489.0   |1094.0    |514.0     |3.6591      |4.93             |2.13                  |0.19                |[489.0,1094.0,514.0,3.65910005569458,4.93,2.13,0.19]   |\n",
            "|2.414           |687.0   |1157.0    |647.0     |3.12        |4.8              |1.79                  |0.22                |[687.0,1157.0,647.0,3.119999885559082,4.8,1.79,0.22]   |\n",
            "|2.267           |665.0   |1206.0    |595.0     |2.0804      |4.29             |2.03                  |0.26                |[665.0,1206.0,595.0,2.080399990081787,4.29,2.03,0.26]  |\n",
            "|2.611           |707.0   |1551.0    |714.0     |3.6912      |4.97             |2.17                  |0.2                 |[707.0,1551.0,714.0,3.691200017929077,4.97,2.17,0.2]   |\n",
            "+----------------+--------+----------+----------+------------+-----------------+----------------------+--------------------+-------------------------------------------------------+\n",
            "only showing top 10 rows\n",
            "\n"
          ]
        }
      ]
    },
    {
      "cell_type": "code",
      "source": [
        "# Initialize the standardScaler\n",
        "standardScaler = StandardScaler(inputCol=\"features\", outputCol=\"features_scaled\")"
      ],
      "metadata": {
        "id": "Lg8vYWmqQamZ"
      },
      "execution_count": null,
      "outputs": []
    },
    {
      "cell_type": "code",
      "source": [
        "# Fit the DataFrame to the scaler\n",
        "scaled_df = standardScaler.fit(assembled_df).transform(assembled_df)\n",
        "scaled_df.select(\"features\", \"features_scaled\").show(10, truncate=False)"
      ],
      "metadata": {
        "colab": {
          "base_uri": "https://localhost:8080/"
        },
        "id": "lJf3bbyrQakJ",
        "outputId": "dc087008-6d9b-4a84-ca1e-981bd31ef7aa"
      },
      "execution_count": null,
      "outputs": [
        {
          "output_type": "stream",
          "name": "stdout",
          "text": [
            "+-------------------------------------------------------+--------------------------------------------------------------------------------------------------------------------------------------+\n",
            "|features                                               |features_scaled                                                                                                                       |\n",
            "+-------------------------------------------------------+--------------------------------------------------------------------------------------------------------------------------------------+\n",
            "|[129.0,322.0,126.0,8.325200080871582,6.98,2.56,0.15]   |[0.30623297630686513,0.2843362208866199,0.3295584480852433,4.38209543579743,2.8211223886115664,0.24648542140099877,2.5828740130262697]|\n",
            "|[1106.0,2401.0,1138.0,8.301400184631348,6.24,2.11,0.16]|[2.6255323394991694,2.1201592122632746,2.9764882057222772,4.36956799913841,2.522034914747303,0.20315790592035446,2.755065613894688]   |\n",
            "|[190.0,496.0,177.0,7.257400035858154,8.29,2.8,0.13]    |[0.451040817816313,0.4379837439744208,0.4629511532626037,3.820042673324032,3.3505880518037077,0.2695934296573424,2.238490811289434]   |\n",
            "|[235.0,558.0,219.0,5.643099784851074,5.82,2.55,0.18]   |[0.557866274667545,0.4927317119712234,0.5728039692910182,2.970331231769803,2.3522825647162344,0.2455225877236511,3.099448815631524]   |\n",
            "|[280.0,565.0,259.0,3.8461999893188477,6.28,2.18,0.17]  |[0.664691731518777,0.4989129341644108,0.6774256988418891,2.024505748166202,2.538201805226452,0.20989774166178804,2.9272572147631064]  |\n",
            "|[213.0,413.0,193.0,4.036799907684326,4.76,2.14,0.23]   |[0.5056404957624983,0.364692109398056,0.5047998450829521,2.124830908428931,1.9238599670187757,0.20604640695239743,3.960406819973614]  |\n",
            "|[489.0,1094.0,514.0,3.65910005569458,4.93,2.13,0.19]   |[1.1608366311167213,0.9660367256210006,1.344389224728691,1.9260228580003875,1.9925692515551605,0.20508357327504975,3.271640416499942] |\n",
            "|[687.0,1157.0,647.0,3.119999885559082,4.8,1.79,0.22]   |[1.6308686412621423,1.021667725359687,1.6922564754853369,1.6422593001231023,1.9400268574979251,0.1723472282452296,3.788215219105196]  |\n",
            "|[665.0,1206.0,595.0,2.080399990081787,4.29,2.03,0.26]  |[1.5786428623570954,1.0649362807119989,1.5562482270692046,1.0950501144251168,1.7338990038887707,0.19545523650157323,4.476981622578868]|\n",
            "|[707.0,1551.0,714.0,3.691200017929077,4.97,2.17,0.2]   |[1.678346622084912,1.3695822316619488,1.8674978724830456,1.9429191603871925,2.00873614203431,0.20893490798444037,3.44383201736836]    |\n",
            "+-------------------------------------------------------+--------------------------------------------------------------------------------------------------------------------------------------+\n",
            "only showing top 10 rows\n",
            "\n"
          ]
        }
      ]
    },
    {
      "cell_type": "code",
      "source": [
        "# Split the data into train and test sets\n",
        "train_data, test_data = scaled_df.randomSplit([.8,.2], seed=1)"
      ],
      "metadata": {
        "id": "50qCosiWQahz"
      },
      "execution_count": null,
      "outputs": []
    },
    {
      "cell_type": "code",
      "source": [
        "from pyspark.ml.regression import LinearRegression\n",
        "linearReg= LinearRegression(featuresCol= 'features_scaled', labelCol= \"medianhousevalue\")\n",
        "#fit the model to the the training data\n",
        "model=linearReg.fit(train_data)\n",
        "#make predictions on the test set\n",
        "predictions= model.transform(test_data)\n",
        "# show the predicted values and the actual values\n",
        "predictions.select(\"prediction\" ,\"medianhousevalue\").show(10)"
      ],
      "metadata": {
        "colab": {
          "base_uri": "https://localhost:8080/"
        },
        "id": "VkQSRsOXQafH",
        "outputId": "d6821a89-5d03-4539-ed24-7fda9cbdb8ae"
      },
      "execution_count": null,
      "outputs": [
        {
          "output_type": "stream",
          "name": "stdout",
          "text": [
            "+--------------------+----------------+\n",
            "|          prediction|medianhousevalue|\n",
            "+--------------------+----------------+\n",
            "|  1.9676036684951883|           0.175|\n",
            "|-0.34574768222089025|           0.283|\n",
            "|    1.31751111153962|             0.3|\n",
            "|  0.9997795241697434|             0.3|\n",
            "|   1.395890718527408|           0.325|\n",
            "|  1.3044909053611071|           0.375|\n",
            "|   1.300952173986197|           0.379|\n",
            "|  1.7729607356212862|           0.388|\n",
            "|  2.2007431681601197|             0.4|\n",
            "|  1.9230875886369854|           0.404|\n",
            "+--------------------+----------------+\n",
            "only showing top 10 rows\n",
            "\n"
          ]
        }
      ]
    },
    {
      "cell_type": "code",
      "source": [
        "#R2 score on test set\n",
        "r2_test= model.evaluate(test_data).r2\n",
        "print(\"R2 score on test set: \", r2_test)\n",
        "from pyspark.ml.evaluation import RegressionEvaluator\n",
        "#RMSE on test set\n",
        "evaluator = RegressionEvaluator(predictionCol=\"prediction\", labelCol=\"medianhousevalue\",metricName=\"rmse\")\n",
        "rmse_test = evaluator.evaluate(predictions)\n",
        "print(\"RMSE on test set: \", rmse_test)"
      ],
      "metadata": {
        "colab": {
          "base_uri": "https://localhost:8080/"
        },
        "id": "9kKcNEO6V0oU",
        "outputId": "1180c309-bedb-40b7-f84d-89f198dc579d"
      },
      "execution_count": null,
      "outputs": [
        {
          "output_type": "stream",
          "name": "stdout",
          "text": [
            "R2 score on test set:  0.5532429998171401\n",
            "RMSE on test set:  0.7803180382571191\n"
          ]
        }
      ]
    },
    {
      "cell_type": "markdown",
      "source": [
        "#2. Can we generate a relatively reliable prediction of home value given only longitude, latitude, total rooms, and total bedrooms?"
      ],
      "metadata": {
        "id": "2_PvPbawccTK"
      }
    },
    {
      "cell_type": "code",
      "source": [
        "df_new2 = df.select(\"medianhousevalue\",\n",
        "                \"long\", \n",
        "                \"lat\", \n",
        "                \"rooms\", \n",
        "                \"bedrooms\")"
      ],
      "metadata": {
        "id": "b-z6jdUjcfQS"
      },
      "execution_count": null,
      "outputs": []
    },
    {
      "cell_type": "code",
      "source": [
        "df_new2.show(5)"
      ],
      "metadata": {
        "colab": {
          "base_uri": "https://localhost:8080/"
        },
        "id": "43La5Ozjb-Ls",
        "outputId": "8da68f10-e264-4184-fd45-de88a45c5c6f"
      },
      "execution_count": null,
      "outputs": [
        {
          "output_type": "stream",
          "name": "stdout",
          "text": [
            "+----------------+-------+-----+------+--------+\n",
            "|medianhousevalue|   long|  lat| rooms|bedrooms|\n",
            "+----------------+-------+-----+------+--------+\n",
            "|           4.526|-122.23|37.88| 880.0|   129.0|\n",
            "|           3.585|-122.22|37.86|7099.0|  1106.0|\n",
            "|           3.521|-122.24|37.85|1467.0|   190.0|\n",
            "|           3.413|-122.25|37.85|1274.0|   235.0|\n",
            "|           3.422|-122.25|37.85|1627.0|   280.0|\n",
            "+----------------+-------+-----+------+--------+\n",
            "only showing top 5 rows\n",
            "\n"
          ]
        }
      ]
    },
    {
      "cell_type": "code",
      "source": [
        "featureCols2 = [\"long\", \"lat\", \"rooms\", \"bedrooms\"]"
      ],
      "metadata": {
        "id": "zJKxXdc4c58x"
      },
      "execution_count": null,
      "outputs": []
    },
    {
      "cell_type": "code",
      "source": [
        "assembler2 = VectorAssembler(inputCols=featureCols2, outputCol=\"features2\") \n",
        "assembled_df2 = assembler2.transform(df_new2)\n",
        "assembled_df2.show(10, truncate=False)"
      ],
      "metadata": {
        "colab": {
          "base_uri": "https://localhost:8080/"
        },
        "id": "GIMh8jIOc56A",
        "outputId": "d9b59720-844f-411b-9c65-72e5304e29fe"
      },
      "execution_count": null,
      "outputs": [
        {
          "output_type": "stream",
          "name": "stdout",
          "text": [
            "+----------------+-------+-----+------+--------+-----------------------------------------------------+\n",
            "|medianhousevalue|long   |lat  |rooms |bedrooms|features2                                            |\n",
            "+----------------+-------+-----+------+--------+-----------------------------------------------------+\n",
            "|4.526           |-122.23|37.88|880.0 |129.0   |[-122.2300033569336,37.880001068115234,880.0,129.0]  |\n",
            "|3.585           |-122.22|37.86|7099.0|1106.0  |[-122.22000122070312,37.86000061035156,7099.0,1106.0]|\n",
            "|3.521           |-122.24|37.85|1467.0|190.0   |[-122.23999786376953,37.849998474121094,1467.0,190.0]|\n",
            "|3.413           |-122.25|37.85|1274.0|235.0   |[-122.25,37.849998474121094,1274.0,235.0]            |\n",
            "|3.422           |-122.25|37.85|1627.0|280.0   |[-122.25,37.849998474121094,1627.0,280.0]            |\n",
            "|2.697           |-122.25|37.85|919.0 |213.0   |[-122.25,37.849998474121094,919.0,213.0]             |\n",
            "|2.992           |-122.25|37.84|2535.0|489.0   |[-122.25,37.84000015258789,2535.0,489.0]             |\n",
            "|2.414           |-122.25|37.84|3104.0|687.0   |[-122.25,37.84000015258789,3104.0,687.0]             |\n",
            "|2.267           |-122.26|37.84|2555.0|665.0   |[-122.26000213623047,37.84000015258789,2555.0,665.0] |\n",
            "|2.611           |-122.25|37.84|3549.0|707.0   |[-122.25,37.84000015258789,3549.0,707.0]             |\n",
            "+----------------+-------+-----+------+--------+-----------------------------------------------------+\n",
            "only showing top 10 rows\n",
            "\n"
          ]
        }
      ]
    },
    {
      "cell_type": "code",
      "source": [
        "# Initialize the standardScaler\n",
        "standardScaler2 = StandardScaler(inputCol=\"features2\", outputCol=\"features_scaled2\")\n",
        "# Fit the DataFrame to the scaler\n",
        "scaled_df2 = standardScaler2.fit(assembled_df2).transform(assembled_df2)\n",
        "scaled_df2.select(\"features2\", \"features_scaled2\").show(10, truncate=False)"
      ],
      "metadata": {
        "colab": {
          "base_uri": "https://localhost:8080/"
        },
        "id": "hb2MZrA-d4e2",
        "outputId": "d053f5ba-65af-4567-dbf5-6ac1754c5411"
      },
      "execution_count": null,
      "outputs": [
        {
          "output_type": "stream",
          "name": "stdout",
          "text": [
            "+-----------------------------------------------------+------------------------------------------------------------------------------+\n",
            "|features2                                            |features_scaled2                                                              |\n",
            "+-----------------------------------------------------+------------------------------------------------------------------------------+\n",
            "|[-122.2300033569336,37.880001068115234,880.0,129.0]  |[-61.00727067992717,17.73447826464273,0.40337085073160667,0.30623297630686513]|\n",
            "|[-122.22000122070312,37.86000061035156,7099.0,1106.0]|[-61.00227842748807,17.725114545701565,3.2540109878905406,2.6255323394991694] |\n",
            "|[-122.23999786376953,37.849998474121094,1467.0,190.0]|[-61.012259124393395,17.720431793257596,0.6724375432082579,0.451040817816313] |\n",
            "|[-122.25,37.849998474121094,1274.0,235.0]            |[-61.01725137683249,17.720431793257596,0.5839709816273487,0.557866274667545]  |\n",
            "|[-122.25,37.849998474121094,1627.0,280.0]            |[-61.01725137683249,17.720431793257596,0.7457776978867319,0.664691731518777]  |\n",
            "|[-122.25,37.849998474121094,919.0,213.0]             |[-61.01725137683249,17.720431793257596,0.4212475134344847,0.5056404957624983] |\n",
            "|[-122.25,37.84000015258789,2535.0,489.0]             |[-61.01725137683249,17.715750826760406,1.1619830756870715,1.1608366311167213] |\n",
            "|[-122.25,37.84000015258789,3104.0,687.0]             |[-61.01725137683249,17.715750826760406,1.4227990007623943,1.6308686412621423] |\n",
            "|[-122.26000213623047,37.84000015258789,2555.0,665.0] |[-61.02224362927159,17.715750826760406,1.1711505950218808,1.5786428623570954] |\n",
            "|[-122.25,37.84000015258789,3549.0,707.0]             |[-61.01725137683249,17.715750826760406,1.6267763059619,1.678346622084912]     |\n",
            "+-----------------------------------------------------+------------------------------------------------------------------------------+\n",
            "only showing top 10 rows\n",
            "\n"
          ]
        }
      ]
    },
    {
      "cell_type": "code",
      "source": [
        "#splitting the data \n",
        "train_data, test_data = scaled_df2.randomSplit([0.8,0.2], seed=1)"
      ],
      "metadata": {
        "id": "-eni7ZyKqqh8"
      },
      "execution_count": null,
      "outputs": []
    },
    {
      "cell_type": "code",
      "source": [
        "from pyspark.ml.regression import LinearRegression\n",
        "linearReg= LinearRegression(featuresCol= 'features_scaled2', labelCol= \"medianhousevalue\")\n",
        "#fit the model to the the training data\n",
        "model=linearReg.fit(train_data)\n",
        "#make predictions on the test set\n",
        "predictions= model.transform(test_data)\n",
        "# show the predicted values and the actual values\n",
        "predictions.select(\"prediction\" ,\"medianhousevalue\").show(10)"
      ],
      "metadata": {
        "colab": {
          "base_uri": "https://localhost:8080/"
        },
        "id": "YzXQE3batmUQ",
        "outputId": "319e6db2-fa42-461e-ccf3-4f28e0d9614e"
      },
      "execution_count": null,
      "outputs": [
        {
          "output_type": "stream",
          "name": "stdout",
          "text": [
            "+--------------------+----------------+\n",
            "|          prediction|medianhousevalue|\n",
            "+--------------------+----------------+\n",
            "|  2.0296178823249207|           0.175|\n",
            "|    4.86815894868959|           0.283|\n",
            "|  2.3511420799879517|             0.3|\n",
            "|  0.6417864685929118|             0.3|\n",
            "|  1.1723173535796505|           0.325|\n",
            "|  2.8190519710028212|           0.375|\n",
            "|  2.2763425168108853|           0.379|\n",
            "|  2.0100909738508435|           0.388|\n",
            "|-0.48479287289755035|             0.4|\n",
            "|  0.6071881322387753|           0.404|\n",
            "+--------------------+----------------+\n",
            "only showing top 10 rows\n",
            "\n"
          ]
        }
      ]
    },
    {
      "cell_type": "code",
      "source": [
        "#R2 score on test set\n",
        "r2_test= model.evaluate(test_data).r2\n",
        "print(\"R2 score on test set: \", r2_test)\n",
        "from pyspark.ml.evaluation import RegressionEvaluator\n",
        "#RMSE on test set\n",
        "evaluator = RegressionEvaluator(predictionCol=\"prediction\", labelCol=\"medianhousevalue\",metricName=\"rmse\")\n",
        "rmse_test = evaluator.evaluate(predictions)\n",
        "print(\"RMSE on test set: \", rmse_test)"
      ],
      "metadata": {
        "colab": {
          "base_uri": "https://localhost:8080/"
        },
        "id": "n0bMCOPotmR8",
        "outputId": "faa55b45-dab4-47be-d70a-bcdee82ba8b2"
      },
      "execution_count": null,
      "outputs": [
        {
          "output_type": "stream",
          "name": "stdout",
          "text": [
            "R2 score on test set:  0.29651318354285827\n",
            "RMSE on test set:  0.9791831803061672\n"
          ]
        }
      ]
    },
    {
      "cell_type": "markdown",
      "source": [
        "#3. Can we use median age to help predict housing prices on its own?"
      ],
      "metadata": {
        "id": "89rkWXp2ewFm"
      }
    },
    {
      "cell_type": "code",
      "source": [
        "df.show(5)"
      ],
      "metadata": {
        "colab": {
          "base_uri": "https://localhost:8080/"
        },
        "id": "eN3WWC3fgqp8",
        "outputId": "8e51275e-94be-4e59-f456-dbde291eb96e"
      },
      "execution_count": null,
      "outputs": [
        {
          "output_type": "stream",
          "name": "stdout",
          "text": [
            "+-------+-----+---------+------+--------+----------+----------+------------+----------------+-----------------+----------------------+--------------------+\n",
            "|   long|  lat|medianage| rooms|bedrooms|population|households|medianincome|medianhousevalue|roomsperhousehold|populationperhousehold|bedroomsperhousehold|\n",
            "+-------+-----+---------+------+--------+----------+----------+------------+----------------+-----------------+----------------------+--------------------+\n",
            "|-122.23|37.88|     41.0| 880.0|   129.0|     322.0|     126.0|      8.3252|           4.526|             6.98|                  2.56|                0.15|\n",
            "|-122.22|37.86|     21.0|7099.0|  1106.0|    2401.0|    1138.0|      8.3014|           3.585|             6.24|                  2.11|                0.16|\n",
            "|-122.24|37.85|     52.0|1467.0|   190.0|     496.0|     177.0|      7.2574|           3.521|             8.29|                   2.8|                0.13|\n",
            "|-122.25|37.85|     52.0|1274.0|   235.0|     558.0|     219.0|      5.6431|           3.413|             5.82|                  2.55|                0.18|\n",
            "|-122.25|37.85|     52.0|1627.0|   280.0|     565.0|     259.0|      3.8462|           3.422|             6.28|                  2.18|                0.17|\n",
            "+-------+-----+---------+------+--------+----------+----------+------------+----------------+-----------------+----------------------+--------------------+\n",
            "only showing top 5 rows\n",
            "\n"
          ]
        }
      ]
    },
    {
      "cell_type": "code",
      "source": [
        "# defining medianage as our label/predictor variable\n",
        "df3 = df.select(df.medianage, df.medianhousevalue.alias('label'))\n",
        "# split data into 70% training and 30% testing data\n",
        "training, test = df3.randomSplit([0.7, 0.3], seed = 100)\n",
        "# assembler to assemble the features into vector form\n",
        "assembler = VectorAssembler().setInputCols(['medianage',]).setOutputCol('features')\n",
        "trainingSet = assembler.transform(training)\n",
        "# select only features column and label column since we have already vectorised our features\n",
        "trainingSet = trainingSet.select(\"features\",\"label\")"
      ],
      "metadata": {
        "id": "l6l-Hc3kevHG"
      },
      "execution_count": null,
      "outputs": []
    },
    {
      "cell_type": "code",
      "source": [
        "from pyspark.ml.regression import LinearRegression\n",
        "# fit the training set to linear regression model\n",
        "lr = LinearRegression()\n",
        "lr_Model = lr.fit(trainingSet)\n",
        "# assembler to assemble the features into vector form\n",
        "testSet = assembler.transform(test)\n",
        "# select only features column and label column since we have already vectorised our features\n",
        "testSet = testSet.select(\"features\", \"label\")\n",
        "# fit the testing data into our linear regression model\n",
        "testSet = lr_Model.transform(testSet)\n",
        "testSet.show(truncate=False)"
      ],
      "metadata": {
        "colab": {
          "base_uri": "https://localhost:8080/"
        },
        "id": "-VFET5SggTGq",
        "outputId": "4b90b5b6-82bd-468b-877a-19dcd430687e"
      },
      "execution_count": null,
      "outputs": [
        {
          "output_type": "stream",
          "name": "stdout",
          "text": [
            "+--------+-------+------------------+\n",
            "|features|label  |prediction        |\n",
            "+--------+-------+------------------+\n",
            "|[1.0]   |1.913  |1.8097990352332143|\n",
            "|[2.0]   |1.142  |1.8193061102284969|\n",
            "|[2.0]   |1.221  |1.8193061102284969|\n",
            "|[2.0]   |1.367  |1.8193061102284969|\n",
            "|[2.0]   |1.374  |1.8193061102284969|\n",
            "|[2.0]   |1.459  |1.8193061102284969|\n",
            "|[2.0]   |1.463  |1.8193061102284969|\n",
            "|[2.0]   |1.648  |1.8193061102284969|\n",
            "|[2.0]   |1.81   |1.8193061102284969|\n",
            "|[2.0]   |1.967  |1.8193061102284969|\n",
            "|[2.0]   |2.044  |1.8193061102284969|\n",
            "|[2.0]   |2.101  |1.8193061102284969|\n",
            "|[2.0]   |2.145  |1.8193061102284969|\n",
            "|[2.0]   |2.208  |1.8193061102284969|\n",
            "|[2.0]   |2.225  |1.8193061102284969|\n",
            "|[2.0]   |2.985  |1.8193061102284969|\n",
            "|[2.0]   |3.295  |1.8193061102284969|\n",
            "|[2.0]   |4.841  |1.8193061102284969|\n",
            "|[2.0]   |5.00001|1.8193061102284969|\n",
            "|[3.0]   |0.832  |1.8288131852237797|\n",
            "+--------+-------+------------------+\n",
            "only showing top 20 rows\n",
            "\n"
          ]
        }
      ]
    },
    {
      "cell_type": "code",
      "source": [
        "from pyspark.ml.evaluation import RegressionEvaluator\n",
        "evaluator = RegressionEvaluator()\n",
        "print(evaluator.evaluate(testSet, {evaluator.metricName: \"r2\"}))"
      ],
      "metadata": {
        "colab": {
          "base_uri": "https://localhost:8080/"
        },
        "id": "lZQ_LIGVgUAn",
        "outputId": "e0eaf6ca-56b7-43f0-c2bb-3203c8702773"
      },
      "execution_count": null,
      "outputs": [
        {
          "output_type": "stream",
          "name": "stdout",
          "text": [
            "0.012153001720492496\n"
          ]
        }
      ]
    },
    {
      "cell_type": "markdown",
      "source": [
        "The r2 shows its a bad predictor"
      ],
      "metadata": {
        "id": "eDtUNxx9g-t8"
      }
    }
  ]
}