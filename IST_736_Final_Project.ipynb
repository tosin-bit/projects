{
  "nbformat": 4,
  "nbformat_minor": 0,
  "metadata": {
    "colab": {
      "provenance": [],
      "collapsed_sections": [
        "Qo2O0vood7F1",
        "3D0synD6fN75",
        "XnPdYS1Gw647",
        "0AqgDbBQEyqf",
        "72rByrveFnus",
        "DxXoP_mXG0hh"
      ]
    },
    "kernelspec": {
      "name": "python3",
      "display_name": "Python 3"
    },
    "language_info": {
      "name": "python"
    },
    "widgets": {
      "application/vnd.jupyter.widget-state+json": {
        "394d30bed74a47dfa8f374666c92f8f4": {
          "model_module": "@jupyter-widgets/controls",
          "model_name": "HBoxModel",
          "model_module_version": "1.5.0",
          "state": {
            "_view_name": "HBoxView",
            "_dom_classes": [],
            "_model_name": "HBoxModel",
            "_view_module": "@jupyter-widgets/controls",
            "_model_module_version": "1.5.0",
            "_view_count": null,
            "_view_module_version": "1.5.0",
            "box_style": "",
            "layout": "IPY_MODEL_83382e68bad24f4897b1f9265ae5964b",
            "_model_module": "@jupyter-widgets/controls",
            "children": [
              "IPY_MODEL_c640f67ecf244b4c842dd6169d4c541d",
              "IPY_MODEL_73bc96a1ddaf4996951d639157f26f48",
              "IPY_MODEL_ebef64605e96486cac324fee287e6c0a"
            ]
          }
        },
        "83382e68bad24f4897b1f9265ae5964b": {
          "model_module": "@jupyter-widgets/base",
          "model_name": "LayoutModel",
          "model_module_version": "1.2.0",
          "state": {
            "_view_name": "LayoutView",
            "grid_template_rows": null,
            "right": null,
            "justify_content": null,
            "_view_module": "@jupyter-widgets/base",
            "overflow": null,
            "_model_module_version": "1.2.0",
            "_view_count": null,
            "flex_flow": null,
            "width": null,
            "min_width": null,
            "border": null,
            "align_items": null,
            "bottom": null,
            "_model_module": "@jupyter-widgets/base",
            "top": null,
            "grid_column": null,
            "overflow_y": null,
            "overflow_x": null,
            "grid_auto_flow": null,
            "grid_area": null,
            "grid_template_columns": null,
            "flex": null,
            "_model_name": "LayoutModel",
            "justify_items": null,
            "grid_row": null,
            "max_height": null,
            "align_content": null,
            "visibility": null,
            "align_self": null,
            "height": null,
            "min_height": null,
            "padding": null,
            "grid_auto_rows": null,
            "grid_gap": null,
            "max_width": null,
            "order": null,
            "_view_module_version": "1.2.0",
            "grid_template_areas": null,
            "object_position": null,
            "object_fit": null,
            "grid_auto_columns": null,
            "margin": null,
            "display": null,
            "left": null
          }
        },
        "c640f67ecf244b4c842dd6169d4c541d": {
          "model_module": "@jupyter-widgets/controls",
          "model_name": "HTMLModel",
          "model_module_version": "1.5.0",
          "state": {
            "_view_name": "HTMLView",
            "style": "IPY_MODEL_ac41cb0c04694f7aa809191c6b6a3963",
            "_dom_classes": [],
            "description": "",
            "_model_name": "HTMLModel",
            "placeholder": "​",
            "_view_module": "@jupyter-widgets/controls",
            "_model_module_version": "1.5.0",
            "value": "Downloading: 100%",
            "_view_count": null,
            "_view_module_version": "1.5.0",
            "description_tooltip": null,
            "_model_module": "@jupyter-widgets/controls",
            "layout": "IPY_MODEL_6faa768d6380428b9f1acdab1a348e58"
          }
        },
        "73bc96a1ddaf4996951d639157f26f48": {
          "model_module": "@jupyter-widgets/controls",
          "model_name": "FloatProgressModel",
          "model_module_version": "1.5.0",
          "state": {
            "_view_name": "ProgressView",
            "style": "IPY_MODEL_570fb575a2c648e9831f5b47fd1c3467",
            "_dom_classes": [],
            "description": "",
            "_model_name": "FloatProgressModel",
            "bar_style": "success",
            "max": 231508,
            "_view_module": "@jupyter-widgets/controls",
            "_model_module_version": "1.5.0",
            "value": 231508,
            "_view_count": null,
            "_view_module_version": "1.5.0",
            "orientation": "horizontal",
            "min": 0,
            "description_tooltip": null,
            "_model_module": "@jupyter-widgets/controls",
            "layout": "IPY_MODEL_8d7f79a217ea4348aebb64e20436dbd3"
          }
        },
        "ebef64605e96486cac324fee287e6c0a": {
          "model_module": "@jupyter-widgets/controls",
          "model_name": "HTMLModel",
          "model_module_version": "1.5.0",
          "state": {
            "_view_name": "HTMLView",
            "style": "IPY_MODEL_7e7998742c644da88e01f87776b1e177",
            "_dom_classes": [],
            "description": "",
            "_model_name": "HTMLModel",
            "placeholder": "​",
            "_view_module": "@jupyter-widgets/controls",
            "_model_module_version": "1.5.0",
            "value": " 226k/226k [00:00&lt;00:00, 2.40MB/s]",
            "_view_count": null,
            "_view_module_version": "1.5.0",
            "description_tooltip": null,
            "_model_module": "@jupyter-widgets/controls",
            "layout": "IPY_MODEL_a05e2fb09bb9492d984e1cf7b020e05e"
          }
        },
        "ac41cb0c04694f7aa809191c6b6a3963": {
          "model_module": "@jupyter-widgets/controls",
          "model_name": "DescriptionStyleModel",
          "model_module_version": "1.5.0",
          "state": {
            "_view_name": "StyleView",
            "_model_name": "DescriptionStyleModel",
            "description_width": "",
            "_view_module": "@jupyter-widgets/base",
            "_model_module_version": "1.5.0",
            "_view_count": null,
            "_view_module_version": "1.2.0",
            "_model_module": "@jupyter-widgets/controls"
          }
        },
        "6faa768d6380428b9f1acdab1a348e58": {
          "model_module": "@jupyter-widgets/base",
          "model_name": "LayoutModel",
          "model_module_version": "1.2.0",
          "state": {
            "_view_name": "LayoutView",
            "grid_template_rows": null,
            "right": null,
            "justify_content": null,
            "_view_module": "@jupyter-widgets/base",
            "overflow": null,
            "_model_module_version": "1.2.0",
            "_view_count": null,
            "flex_flow": null,
            "width": null,
            "min_width": null,
            "border": null,
            "align_items": null,
            "bottom": null,
            "_model_module": "@jupyter-widgets/base",
            "top": null,
            "grid_column": null,
            "overflow_y": null,
            "overflow_x": null,
            "grid_auto_flow": null,
            "grid_area": null,
            "grid_template_columns": null,
            "flex": null,
            "_model_name": "LayoutModel",
            "justify_items": null,
            "grid_row": null,
            "max_height": null,
            "align_content": null,
            "visibility": null,
            "align_self": null,
            "height": null,
            "min_height": null,
            "padding": null,
            "grid_auto_rows": null,
            "grid_gap": null,
            "max_width": null,
            "order": null,
            "_view_module_version": "1.2.0",
            "grid_template_areas": null,
            "object_position": null,
            "object_fit": null,
            "grid_auto_columns": null,
            "margin": null,
            "display": null,
            "left": null
          }
        },
        "570fb575a2c648e9831f5b47fd1c3467": {
          "model_module": "@jupyter-widgets/controls",
          "model_name": "ProgressStyleModel",
          "model_module_version": "1.5.0",
          "state": {
            "_view_name": "StyleView",
            "_model_name": "ProgressStyleModel",
            "description_width": "",
            "_view_module": "@jupyter-widgets/base",
            "_model_module_version": "1.5.0",
            "_view_count": null,
            "_view_module_version": "1.2.0",
            "bar_color": null,
            "_model_module": "@jupyter-widgets/controls"
          }
        },
        "8d7f79a217ea4348aebb64e20436dbd3": {
          "model_module": "@jupyter-widgets/base",
          "model_name": "LayoutModel",
          "model_module_version": "1.2.0",
          "state": {
            "_view_name": "LayoutView",
            "grid_template_rows": null,
            "right": null,
            "justify_content": null,
            "_view_module": "@jupyter-widgets/base",
            "overflow": null,
            "_model_module_version": "1.2.0",
            "_view_count": null,
            "flex_flow": null,
            "width": null,
            "min_width": null,
            "border": null,
            "align_items": null,
            "bottom": null,
            "_model_module": "@jupyter-widgets/base",
            "top": null,
            "grid_column": null,
            "overflow_y": null,
            "overflow_x": null,
            "grid_auto_flow": null,
            "grid_area": null,
            "grid_template_columns": null,
            "flex": null,
            "_model_name": "LayoutModel",
            "justify_items": null,
            "grid_row": null,
            "max_height": null,
            "align_content": null,
            "visibility": null,
            "align_self": null,
            "height": null,
            "min_height": null,
            "padding": null,
            "grid_auto_rows": null,
            "grid_gap": null,
            "max_width": null,
            "order": null,
            "_view_module_version": "1.2.0",
            "grid_template_areas": null,
            "object_position": null,
            "object_fit": null,
            "grid_auto_columns": null,
            "margin": null,
            "display": null,
            "left": null
          }
        },
        "7e7998742c644da88e01f87776b1e177": {
          "model_module": "@jupyter-widgets/controls",
          "model_name": "DescriptionStyleModel",
          "model_module_version": "1.5.0",
          "state": {
            "_view_name": "StyleView",
            "_model_name": "DescriptionStyleModel",
            "description_width": "",
            "_view_module": "@jupyter-widgets/base",
            "_model_module_version": "1.5.0",
            "_view_count": null,
            "_view_module_version": "1.2.0",
            "_model_module": "@jupyter-widgets/controls"
          }
        },
        "a05e2fb09bb9492d984e1cf7b020e05e": {
          "model_module": "@jupyter-widgets/base",
          "model_name": "LayoutModel",
          "model_module_version": "1.2.0",
          "state": {
            "_view_name": "LayoutView",
            "grid_template_rows": null,
            "right": null,
            "justify_content": null,
            "_view_module": "@jupyter-widgets/base",
            "overflow": null,
            "_model_module_version": "1.2.0",
            "_view_count": null,
            "flex_flow": null,
            "width": null,
            "min_width": null,
            "border": null,
            "align_items": null,
            "bottom": null,
            "_model_module": "@jupyter-widgets/base",
            "top": null,
            "grid_column": null,
            "overflow_y": null,
            "overflow_x": null,
            "grid_auto_flow": null,
            "grid_area": null,
            "grid_template_columns": null,
            "flex": null,
            "_model_name": "LayoutModel",
            "justify_items": null,
            "grid_row": null,
            "max_height": null,
            "align_content": null,
            "visibility": null,
            "align_self": null,
            "height": null,
            "min_height": null,
            "padding": null,
            "grid_auto_rows": null,
            "grid_gap": null,
            "max_width": null,
            "order": null,
            "_view_module_version": "1.2.0",
            "grid_template_areas": null,
            "object_position": null,
            "object_fit": null,
            "grid_auto_columns": null,
            "margin": null,
            "display": null,
            "left": null
          }
        },
        "fb0eef94d06f492594a510257f6d656c": {
          "model_module": "@jupyter-widgets/controls",
          "model_name": "HBoxModel",
          "model_module_version": "1.5.0",
          "state": {
            "_view_name": "HBoxView",
            "_dom_classes": [],
            "_model_name": "HBoxModel",
            "_view_module": "@jupyter-widgets/controls",
            "_model_module_version": "1.5.0",
            "_view_count": null,
            "_view_module_version": "1.5.0",
            "box_style": "",
            "layout": "IPY_MODEL_b9d5e20692bf445dba264f8d24cb2669",
            "_model_module": "@jupyter-widgets/controls",
            "children": [
              "IPY_MODEL_e12d4ab585364c6991e1dc74335e9182",
              "IPY_MODEL_48a9c5ed499d41e38e30c40726f6022d",
              "IPY_MODEL_84f074d1c5b1436c871018aa1af0268d"
            ]
          }
        },
        "b9d5e20692bf445dba264f8d24cb2669": {
          "model_module": "@jupyter-widgets/base",
          "model_name": "LayoutModel",
          "model_module_version": "1.2.0",
          "state": {
            "_view_name": "LayoutView",
            "grid_template_rows": null,
            "right": null,
            "justify_content": null,
            "_view_module": "@jupyter-widgets/base",
            "overflow": null,
            "_model_module_version": "1.2.0",
            "_view_count": null,
            "flex_flow": null,
            "width": null,
            "min_width": null,
            "border": null,
            "align_items": null,
            "bottom": null,
            "_model_module": "@jupyter-widgets/base",
            "top": null,
            "grid_column": null,
            "overflow_y": null,
            "overflow_x": null,
            "grid_auto_flow": null,
            "grid_area": null,
            "grid_template_columns": null,
            "flex": null,
            "_model_name": "LayoutModel",
            "justify_items": null,
            "grid_row": null,
            "max_height": null,
            "align_content": null,
            "visibility": null,
            "align_self": null,
            "height": null,
            "min_height": null,
            "padding": null,
            "grid_auto_rows": null,
            "grid_gap": null,
            "max_width": null,
            "order": null,
            "_view_module_version": "1.2.0",
            "grid_template_areas": null,
            "object_position": null,
            "object_fit": null,
            "grid_auto_columns": null,
            "margin": null,
            "display": null,
            "left": null
          }
        },
        "e12d4ab585364c6991e1dc74335e9182": {
          "model_module": "@jupyter-widgets/controls",
          "model_name": "HTMLModel",
          "model_module_version": "1.5.0",
          "state": {
            "_view_name": "HTMLView",
            "style": "IPY_MODEL_72ef998b5b5d47db8cf210c658528914",
            "_dom_classes": [],
            "description": "",
            "_model_name": "HTMLModel",
            "placeholder": "​",
            "_view_module": "@jupyter-widgets/controls",
            "_model_module_version": "1.5.0",
            "value": "Downloading: 100%",
            "_view_count": null,
            "_view_module_version": "1.5.0",
            "description_tooltip": null,
            "_model_module": "@jupyter-widgets/controls",
            "layout": "IPY_MODEL_4350ef5eef4546d28f0afb094d89be61"
          }
        },
        "48a9c5ed499d41e38e30c40726f6022d": {
          "model_module": "@jupyter-widgets/controls",
          "model_name": "FloatProgressModel",
          "model_module_version": "1.5.0",
          "state": {
            "_view_name": "ProgressView",
            "style": "IPY_MODEL_ec612735c52a413793c8fe6fe62b3a55",
            "_dom_classes": [],
            "description": "",
            "_model_name": "FloatProgressModel",
            "bar_style": "success",
            "max": 466062,
            "_view_module": "@jupyter-widgets/controls",
            "_model_module_version": "1.5.0",
            "value": 466062,
            "_view_count": null,
            "_view_module_version": "1.5.0",
            "orientation": "horizontal",
            "min": 0,
            "description_tooltip": null,
            "_model_module": "@jupyter-widgets/controls",
            "layout": "IPY_MODEL_fda3e6f35a974d1f80cc42c77752e1e9"
          }
        },
        "84f074d1c5b1436c871018aa1af0268d": {
          "model_module": "@jupyter-widgets/controls",
          "model_name": "HTMLModel",
          "model_module_version": "1.5.0",
          "state": {
            "_view_name": "HTMLView",
            "style": "IPY_MODEL_19a306321dc445499a04548f671cab3b",
            "_dom_classes": [],
            "description": "",
            "_model_name": "HTMLModel",
            "placeholder": "​",
            "_view_module": "@jupyter-widgets/controls",
            "_model_module_version": "1.5.0",
            "value": " 455k/455k [00:00&lt;00:00, 2.01MB/s]",
            "_view_count": null,
            "_view_module_version": "1.5.0",
            "description_tooltip": null,
            "_model_module": "@jupyter-widgets/controls",
            "layout": "IPY_MODEL_42a9411649dd45f598bda5c0536d781c"
          }
        },
        "72ef998b5b5d47db8cf210c658528914": {
          "model_module": "@jupyter-widgets/controls",
          "model_name": "DescriptionStyleModel",
          "model_module_version": "1.5.0",
          "state": {
            "_view_name": "StyleView",
            "_model_name": "DescriptionStyleModel",
            "description_width": "",
            "_view_module": "@jupyter-widgets/base",
            "_model_module_version": "1.5.0",
            "_view_count": null,
            "_view_module_version": "1.2.0",
            "_model_module": "@jupyter-widgets/controls"
          }
        },
        "4350ef5eef4546d28f0afb094d89be61": {
          "model_module": "@jupyter-widgets/base",
          "model_name": "LayoutModel",
          "model_module_version": "1.2.0",
          "state": {
            "_view_name": "LayoutView",
            "grid_template_rows": null,
            "right": null,
            "justify_content": null,
            "_view_module": "@jupyter-widgets/base",
            "overflow": null,
            "_model_module_version": "1.2.0",
            "_view_count": null,
            "flex_flow": null,
            "width": null,
            "min_width": null,
            "border": null,
            "align_items": null,
            "bottom": null,
            "_model_module": "@jupyter-widgets/base",
            "top": null,
            "grid_column": null,
            "overflow_y": null,
            "overflow_x": null,
            "grid_auto_flow": null,
            "grid_area": null,
            "grid_template_columns": null,
            "flex": null,
            "_model_name": "LayoutModel",
            "justify_items": null,
            "grid_row": null,
            "max_height": null,
            "align_content": null,
            "visibility": null,
            "align_self": null,
            "height": null,
            "min_height": null,
            "padding": null,
            "grid_auto_rows": null,
            "grid_gap": null,
            "max_width": null,
            "order": null,
            "_view_module_version": "1.2.0",
            "grid_template_areas": null,
            "object_position": null,
            "object_fit": null,
            "grid_auto_columns": null,
            "margin": null,
            "display": null,
            "left": null
          }
        },
        "ec612735c52a413793c8fe6fe62b3a55": {
          "model_module": "@jupyter-widgets/controls",
          "model_name": "ProgressStyleModel",
          "model_module_version": "1.5.0",
          "state": {
            "_view_name": "StyleView",
            "_model_name": "ProgressStyleModel",
            "description_width": "",
            "_view_module": "@jupyter-widgets/base",
            "_model_module_version": "1.5.0",
            "_view_count": null,
            "_view_module_version": "1.2.0",
            "bar_color": null,
            "_model_module": "@jupyter-widgets/controls"
          }
        },
        "fda3e6f35a974d1f80cc42c77752e1e9": {
          "model_module": "@jupyter-widgets/base",
          "model_name": "LayoutModel",
          "model_module_version": "1.2.0",
          "state": {
            "_view_name": "LayoutView",
            "grid_template_rows": null,
            "right": null,
            "justify_content": null,
            "_view_module": "@jupyter-widgets/base",
            "overflow": null,
            "_model_module_version": "1.2.0",
            "_view_count": null,
            "flex_flow": null,
            "width": null,
            "min_width": null,
            "border": null,
            "align_items": null,
            "bottom": null,
            "_model_module": "@jupyter-widgets/base",
            "top": null,
            "grid_column": null,
            "overflow_y": null,
            "overflow_x": null,
            "grid_auto_flow": null,
            "grid_area": null,
            "grid_template_columns": null,
            "flex": null,
            "_model_name": "LayoutModel",
            "justify_items": null,
            "grid_row": null,
            "max_height": null,
            "align_content": null,
            "visibility": null,
            "align_self": null,
            "height": null,
            "min_height": null,
            "padding": null,
            "grid_auto_rows": null,
            "grid_gap": null,
            "max_width": null,
            "order": null,
            "_view_module_version": "1.2.0",
            "grid_template_areas": null,
            "object_position": null,
            "object_fit": null,
            "grid_auto_columns": null,
            "margin": null,
            "display": null,
            "left": null
          }
        },
        "19a306321dc445499a04548f671cab3b": {
          "model_module": "@jupyter-widgets/controls",
          "model_name": "DescriptionStyleModel",
          "model_module_version": "1.5.0",
          "state": {
            "_view_name": "StyleView",
            "_model_name": "DescriptionStyleModel",
            "description_width": "",
            "_view_module": "@jupyter-widgets/base",
            "_model_module_version": "1.5.0",
            "_view_count": null,
            "_view_module_version": "1.2.0",
            "_model_module": "@jupyter-widgets/controls"
          }
        },
        "42a9411649dd45f598bda5c0536d781c": {
          "model_module": "@jupyter-widgets/base",
          "model_name": "LayoutModel",
          "model_module_version": "1.2.0",
          "state": {
            "_view_name": "LayoutView",
            "grid_template_rows": null,
            "right": null,
            "justify_content": null,
            "_view_module": "@jupyter-widgets/base",
            "overflow": null,
            "_model_module_version": "1.2.0",
            "_view_count": null,
            "flex_flow": null,
            "width": null,
            "min_width": null,
            "border": null,
            "align_items": null,
            "bottom": null,
            "_model_module": "@jupyter-widgets/base",
            "top": null,
            "grid_column": null,
            "overflow_y": null,
            "overflow_x": null,
            "grid_auto_flow": null,
            "grid_area": null,
            "grid_template_columns": null,
            "flex": null,
            "_model_name": "LayoutModel",
            "justify_items": null,
            "grid_row": null,
            "max_height": null,
            "align_content": null,
            "visibility": null,
            "align_self": null,
            "height": null,
            "min_height": null,
            "padding": null,
            "grid_auto_rows": null,
            "grid_gap": null,
            "max_width": null,
            "order": null,
            "_view_module_version": "1.2.0",
            "grid_template_areas": null,
            "object_position": null,
            "object_fit": null,
            "grid_auto_columns": null,
            "margin": null,
            "display": null,
            "left": null
          }
        },
        "29d1f4ccb0b74113bea0d8994dcd0e09": {
          "model_module": "@jupyter-widgets/controls",
          "model_name": "HBoxModel",
          "model_module_version": "1.5.0",
          "state": {
            "_view_name": "HBoxView",
            "_dom_classes": [],
            "_model_name": "HBoxModel",
            "_view_module": "@jupyter-widgets/controls",
            "_model_module_version": "1.5.0",
            "_view_count": null,
            "_view_module_version": "1.5.0",
            "box_style": "",
            "layout": "IPY_MODEL_4d5568b6e5624891b89ba4e198535789",
            "_model_module": "@jupyter-widgets/controls",
            "children": [
              "IPY_MODEL_ace38629a65b4d02a2d5a0cd4ff791c4",
              "IPY_MODEL_2379fe42bc724b9e90b3ea4c898b1a1a",
              "IPY_MODEL_f53117f057d544ea88dd80af25bd3e75"
            ]
          }
        },
        "4d5568b6e5624891b89ba4e198535789": {
          "model_module": "@jupyter-widgets/base",
          "model_name": "LayoutModel",
          "model_module_version": "1.2.0",
          "state": {
            "_view_name": "LayoutView",
            "grid_template_rows": null,
            "right": null,
            "justify_content": null,
            "_view_module": "@jupyter-widgets/base",
            "overflow": null,
            "_model_module_version": "1.2.0",
            "_view_count": null,
            "flex_flow": null,
            "width": null,
            "min_width": null,
            "border": null,
            "align_items": null,
            "bottom": null,
            "_model_module": "@jupyter-widgets/base",
            "top": null,
            "grid_column": null,
            "overflow_y": null,
            "overflow_x": null,
            "grid_auto_flow": null,
            "grid_area": null,
            "grid_template_columns": null,
            "flex": null,
            "_model_name": "LayoutModel",
            "justify_items": null,
            "grid_row": null,
            "max_height": null,
            "align_content": null,
            "visibility": null,
            "align_self": null,
            "height": null,
            "min_height": null,
            "padding": null,
            "grid_auto_rows": null,
            "grid_gap": null,
            "max_width": null,
            "order": null,
            "_view_module_version": "1.2.0",
            "grid_template_areas": null,
            "object_position": null,
            "object_fit": null,
            "grid_auto_columns": null,
            "margin": null,
            "display": null,
            "left": null
          }
        },
        "ace38629a65b4d02a2d5a0cd4ff791c4": {
          "model_module": "@jupyter-widgets/controls",
          "model_name": "HTMLModel",
          "model_module_version": "1.5.0",
          "state": {
            "_view_name": "HTMLView",
            "style": "IPY_MODEL_a71197684f404390a9e88c43bb4accbb",
            "_dom_classes": [],
            "description": "",
            "_model_name": "HTMLModel",
            "placeholder": "​",
            "_view_module": "@jupyter-widgets/controls",
            "_model_module_version": "1.5.0",
            "value": "Downloading: 100%",
            "_view_count": null,
            "_view_module_version": "1.5.0",
            "description_tooltip": null,
            "_model_module": "@jupyter-widgets/controls",
            "layout": "IPY_MODEL_c71d6f7efff7459884efbc1d475de225"
          }
        },
        "2379fe42bc724b9e90b3ea4c898b1a1a": {
          "model_module": "@jupyter-widgets/controls",
          "model_name": "FloatProgressModel",
          "model_module_version": "1.5.0",
          "state": {
            "_view_name": "ProgressView",
            "style": "IPY_MODEL_cebd31568a4b44b38945fc1fbcf42d7a",
            "_dom_classes": [],
            "description": "",
            "_model_name": "FloatProgressModel",
            "bar_style": "success",
            "max": 28,
            "_view_module": "@jupyter-widgets/controls",
            "_model_module_version": "1.5.0",
            "value": 28,
            "_view_count": null,
            "_view_module_version": "1.5.0",
            "orientation": "horizontal",
            "min": 0,
            "description_tooltip": null,
            "_model_module": "@jupyter-widgets/controls",
            "layout": "IPY_MODEL_505f01c8145a4930bc871064aa23b61a"
          }
        },
        "f53117f057d544ea88dd80af25bd3e75": {
          "model_module": "@jupyter-widgets/controls",
          "model_name": "HTMLModel",
          "model_module_version": "1.5.0",
          "state": {
            "_view_name": "HTMLView",
            "style": "IPY_MODEL_c709dc39a74d411c9e037f79783fd3b3",
            "_dom_classes": [],
            "description": "",
            "_model_name": "HTMLModel",
            "placeholder": "​",
            "_view_module": "@jupyter-widgets/controls",
            "_model_module_version": "1.5.0",
            "value": " 28.0/28.0 [00:00&lt;00:00, 755B/s]",
            "_view_count": null,
            "_view_module_version": "1.5.0",
            "description_tooltip": null,
            "_model_module": "@jupyter-widgets/controls",
            "layout": "IPY_MODEL_fdbebc98309e41daba20963dcc97e7b1"
          }
        },
        "a71197684f404390a9e88c43bb4accbb": {
          "model_module": "@jupyter-widgets/controls",
          "model_name": "DescriptionStyleModel",
          "model_module_version": "1.5.0",
          "state": {
            "_view_name": "StyleView",
            "_model_name": "DescriptionStyleModel",
            "description_width": "",
            "_view_module": "@jupyter-widgets/base",
            "_model_module_version": "1.5.0",
            "_view_count": null,
            "_view_module_version": "1.2.0",
            "_model_module": "@jupyter-widgets/controls"
          }
        },
        "c71d6f7efff7459884efbc1d475de225": {
          "model_module": "@jupyter-widgets/base",
          "model_name": "LayoutModel",
          "model_module_version": "1.2.0",
          "state": {
            "_view_name": "LayoutView",
            "grid_template_rows": null,
            "right": null,
            "justify_content": null,
            "_view_module": "@jupyter-widgets/base",
            "overflow": null,
            "_model_module_version": "1.2.0",
            "_view_count": null,
            "flex_flow": null,
            "width": null,
            "min_width": null,
            "border": null,
            "align_items": null,
            "bottom": null,
            "_model_module": "@jupyter-widgets/base",
            "top": null,
            "grid_column": null,
            "overflow_y": null,
            "overflow_x": null,
            "grid_auto_flow": null,
            "grid_area": null,
            "grid_template_columns": null,
            "flex": null,
            "_model_name": "LayoutModel",
            "justify_items": null,
            "grid_row": null,
            "max_height": null,
            "align_content": null,
            "visibility": null,
            "align_self": null,
            "height": null,
            "min_height": null,
            "padding": null,
            "grid_auto_rows": null,
            "grid_gap": null,
            "max_width": null,
            "order": null,
            "_view_module_version": "1.2.0",
            "grid_template_areas": null,
            "object_position": null,
            "object_fit": null,
            "grid_auto_columns": null,
            "margin": null,
            "display": null,
            "left": null
          }
        },
        "cebd31568a4b44b38945fc1fbcf42d7a": {
          "model_module": "@jupyter-widgets/controls",
          "model_name": "ProgressStyleModel",
          "model_module_version": "1.5.0",
          "state": {
            "_view_name": "StyleView",
            "_model_name": "ProgressStyleModel",
            "description_width": "",
            "_view_module": "@jupyter-widgets/base",
            "_model_module_version": "1.5.0",
            "_view_count": null,
            "_view_module_version": "1.2.0",
            "bar_color": null,
            "_model_module": "@jupyter-widgets/controls"
          }
        },
        "505f01c8145a4930bc871064aa23b61a": {
          "model_module": "@jupyter-widgets/base",
          "model_name": "LayoutModel",
          "model_module_version": "1.2.0",
          "state": {
            "_view_name": "LayoutView",
            "grid_template_rows": null,
            "right": null,
            "justify_content": null,
            "_view_module": "@jupyter-widgets/base",
            "overflow": null,
            "_model_module_version": "1.2.0",
            "_view_count": null,
            "flex_flow": null,
            "width": null,
            "min_width": null,
            "border": null,
            "align_items": null,
            "bottom": null,
            "_model_module": "@jupyter-widgets/base",
            "top": null,
            "grid_column": null,
            "overflow_y": null,
            "overflow_x": null,
            "grid_auto_flow": null,
            "grid_area": null,
            "grid_template_columns": null,
            "flex": null,
            "_model_name": "LayoutModel",
            "justify_items": null,
            "grid_row": null,
            "max_height": null,
            "align_content": null,
            "visibility": null,
            "align_self": null,
            "height": null,
            "min_height": null,
            "padding": null,
            "grid_auto_rows": null,
            "grid_gap": null,
            "max_width": null,
            "order": null,
            "_view_module_version": "1.2.0",
            "grid_template_areas": null,
            "object_position": null,
            "object_fit": null,
            "grid_auto_columns": null,
            "margin": null,
            "display": null,
            "left": null
          }
        },
        "c709dc39a74d411c9e037f79783fd3b3": {
          "model_module": "@jupyter-widgets/controls",
          "model_name": "DescriptionStyleModel",
          "model_module_version": "1.5.0",
          "state": {
            "_view_name": "StyleView",
            "_model_name": "DescriptionStyleModel",
            "description_width": "",
            "_view_module": "@jupyter-widgets/base",
            "_model_module_version": "1.5.0",
            "_view_count": null,
            "_view_module_version": "1.2.0",
            "_model_module": "@jupyter-widgets/controls"
          }
        },
        "fdbebc98309e41daba20963dcc97e7b1": {
          "model_module": "@jupyter-widgets/base",
          "model_name": "LayoutModel",
          "model_module_version": "1.2.0",
          "state": {
            "_view_name": "LayoutView",
            "grid_template_rows": null,
            "right": null,
            "justify_content": null,
            "_view_module": "@jupyter-widgets/base",
            "overflow": null,
            "_model_module_version": "1.2.0",
            "_view_count": null,
            "flex_flow": null,
            "width": null,
            "min_width": null,
            "border": null,
            "align_items": null,
            "bottom": null,
            "_model_module": "@jupyter-widgets/base",
            "top": null,
            "grid_column": null,
            "overflow_y": null,
            "overflow_x": null,
            "grid_auto_flow": null,
            "grid_area": null,
            "grid_template_columns": null,
            "flex": null,
            "_model_name": "LayoutModel",
            "justify_items": null,
            "grid_row": null,
            "max_height": null,
            "align_content": null,
            "visibility": null,
            "align_self": null,
            "height": null,
            "min_height": null,
            "padding": null,
            "grid_auto_rows": null,
            "grid_gap": null,
            "max_width": null,
            "order": null,
            "_view_module_version": "1.2.0",
            "grid_template_areas": null,
            "object_position": null,
            "object_fit": null,
            "grid_auto_columns": null,
            "margin": null,
            "display": null,
            "left": null
          }
        },
        "0d8863b4b80346e79a391c47c7b7eb47": {
          "model_module": "@jupyter-widgets/controls",
          "model_name": "HBoxModel",
          "model_module_version": "1.5.0",
          "state": {
            "_view_name": "HBoxView",
            "_dom_classes": [],
            "_model_name": "HBoxModel",
            "_view_module": "@jupyter-widgets/controls",
            "_model_module_version": "1.5.0",
            "_view_count": null,
            "_view_module_version": "1.5.0",
            "box_style": "",
            "layout": "IPY_MODEL_65dc101f628d4c07bd716c6610e6a3b9",
            "_model_module": "@jupyter-widgets/controls",
            "children": [
              "IPY_MODEL_0683197b5e8e48939cddfddd52e6f534",
              "IPY_MODEL_3bbfdce5666c4185ae7af42560f6ff42",
              "IPY_MODEL_ffa46ef6aef84fd589599d66118e1959"
            ]
          }
        },
        "65dc101f628d4c07bd716c6610e6a3b9": {
          "model_module": "@jupyter-widgets/base",
          "model_name": "LayoutModel",
          "model_module_version": "1.2.0",
          "state": {
            "_view_name": "LayoutView",
            "grid_template_rows": null,
            "right": null,
            "justify_content": null,
            "_view_module": "@jupyter-widgets/base",
            "overflow": null,
            "_model_module_version": "1.2.0",
            "_view_count": null,
            "flex_flow": null,
            "width": null,
            "min_width": null,
            "border": null,
            "align_items": null,
            "bottom": null,
            "_model_module": "@jupyter-widgets/base",
            "top": null,
            "grid_column": null,
            "overflow_y": null,
            "overflow_x": null,
            "grid_auto_flow": null,
            "grid_area": null,
            "grid_template_columns": null,
            "flex": null,
            "_model_name": "LayoutModel",
            "justify_items": null,
            "grid_row": null,
            "max_height": null,
            "align_content": null,
            "visibility": null,
            "align_self": null,
            "height": null,
            "min_height": null,
            "padding": null,
            "grid_auto_rows": null,
            "grid_gap": null,
            "max_width": null,
            "order": null,
            "_view_module_version": "1.2.0",
            "grid_template_areas": null,
            "object_position": null,
            "object_fit": null,
            "grid_auto_columns": null,
            "margin": null,
            "display": null,
            "left": null
          }
        },
        "0683197b5e8e48939cddfddd52e6f534": {
          "model_module": "@jupyter-widgets/controls",
          "model_name": "HTMLModel",
          "model_module_version": "1.5.0",
          "state": {
            "_view_name": "HTMLView",
            "style": "IPY_MODEL_dcdf8fa8de9d436092fef3d4b56fa968",
            "_dom_classes": [],
            "description": "",
            "_model_name": "HTMLModel",
            "placeholder": "​",
            "_view_module": "@jupyter-widgets/controls",
            "_model_module_version": "1.5.0",
            "value": "Downloading: 100%",
            "_view_count": null,
            "_view_module_version": "1.5.0",
            "description_tooltip": null,
            "_model_module": "@jupyter-widgets/controls",
            "layout": "IPY_MODEL_a91bda00782a436783f428b2c401c4f9"
          }
        },
        "3bbfdce5666c4185ae7af42560f6ff42": {
          "model_module": "@jupyter-widgets/controls",
          "model_name": "FloatProgressModel",
          "model_module_version": "1.5.0",
          "state": {
            "_view_name": "ProgressView",
            "style": "IPY_MODEL_b88eb050f5264c64a4da3a2c33281b8a",
            "_dom_classes": [],
            "description": "",
            "_model_name": "FloatProgressModel",
            "bar_style": "success",
            "max": 570,
            "_view_module": "@jupyter-widgets/controls",
            "_model_module_version": "1.5.0",
            "value": 570,
            "_view_count": null,
            "_view_module_version": "1.5.0",
            "orientation": "horizontal",
            "min": 0,
            "description_tooltip": null,
            "_model_module": "@jupyter-widgets/controls",
            "layout": "IPY_MODEL_7530d436a0074a8d9f0886c078c2c282"
          }
        },
        "ffa46ef6aef84fd589599d66118e1959": {
          "model_module": "@jupyter-widgets/controls",
          "model_name": "HTMLModel",
          "model_module_version": "1.5.0",
          "state": {
            "_view_name": "HTMLView",
            "style": "IPY_MODEL_2b0a8f107eea4683937bf286c3272383",
            "_dom_classes": [],
            "description": "",
            "_model_name": "HTMLModel",
            "placeholder": "​",
            "_view_module": "@jupyter-widgets/controls",
            "_model_module_version": "1.5.0",
            "value": " 570/570 [00:00&lt;00:00, 18.9kB/s]",
            "_view_count": null,
            "_view_module_version": "1.5.0",
            "description_tooltip": null,
            "_model_module": "@jupyter-widgets/controls",
            "layout": "IPY_MODEL_f307f18f69084a57864f73149d653b82"
          }
        },
        "dcdf8fa8de9d436092fef3d4b56fa968": {
          "model_module": "@jupyter-widgets/controls",
          "model_name": "DescriptionStyleModel",
          "model_module_version": "1.5.0",
          "state": {
            "_view_name": "StyleView",
            "_model_name": "DescriptionStyleModel",
            "description_width": "",
            "_view_module": "@jupyter-widgets/base",
            "_model_module_version": "1.5.0",
            "_view_count": null,
            "_view_module_version": "1.2.0",
            "_model_module": "@jupyter-widgets/controls"
          }
        },
        "a91bda00782a436783f428b2c401c4f9": {
          "model_module": "@jupyter-widgets/base",
          "model_name": "LayoutModel",
          "model_module_version": "1.2.0",
          "state": {
            "_view_name": "LayoutView",
            "grid_template_rows": null,
            "right": null,
            "justify_content": null,
            "_view_module": "@jupyter-widgets/base",
            "overflow": null,
            "_model_module_version": "1.2.0",
            "_view_count": null,
            "flex_flow": null,
            "width": null,
            "min_width": null,
            "border": null,
            "align_items": null,
            "bottom": null,
            "_model_module": "@jupyter-widgets/base",
            "top": null,
            "grid_column": null,
            "overflow_y": null,
            "overflow_x": null,
            "grid_auto_flow": null,
            "grid_area": null,
            "grid_template_columns": null,
            "flex": null,
            "_model_name": "LayoutModel",
            "justify_items": null,
            "grid_row": null,
            "max_height": null,
            "align_content": null,
            "visibility": null,
            "align_self": null,
            "height": null,
            "min_height": null,
            "padding": null,
            "grid_auto_rows": null,
            "grid_gap": null,
            "max_width": null,
            "order": null,
            "_view_module_version": "1.2.0",
            "grid_template_areas": null,
            "object_position": null,
            "object_fit": null,
            "grid_auto_columns": null,
            "margin": null,
            "display": null,
            "left": null
          }
        },
        "b88eb050f5264c64a4da3a2c33281b8a": {
          "model_module": "@jupyter-widgets/controls",
          "model_name": "ProgressStyleModel",
          "model_module_version": "1.5.0",
          "state": {
            "_view_name": "StyleView",
            "_model_name": "ProgressStyleModel",
            "description_width": "",
            "_view_module": "@jupyter-widgets/base",
            "_model_module_version": "1.5.0",
            "_view_count": null,
            "_view_module_version": "1.2.0",
            "bar_color": null,
            "_model_module": "@jupyter-widgets/controls"
          }
        },
        "7530d436a0074a8d9f0886c078c2c282": {
          "model_module": "@jupyter-widgets/base",
          "model_name": "LayoutModel",
          "model_module_version": "1.2.0",
          "state": {
            "_view_name": "LayoutView",
            "grid_template_rows": null,
            "right": null,
            "justify_content": null,
            "_view_module": "@jupyter-widgets/base",
            "overflow": null,
            "_model_module_version": "1.2.0",
            "_view_count": null,
            "flex_flow": null,
            "width": null,
            "min_width": null,
            "border": null,
            "align_items": null,
            "bottom": null,
            "_model_module": "@jupyter-widgets/base",
            "top": null,
            "grid_column": null,
            "overflow_y": null,
            "overflow_x": null,
            "grid_auto_flow": null,
            "grid_area": null,
            "grid_template_columns": null,
            "flex": null,
            "_model_name": "LayoutModel",
            "justify_items": null,
            "grid_row": null,
            "max_height": null,
            "align_content": null,
            "visibility": null,
            "align_self": null,
            "height": null,
            "min_height": null,
            "padding": null,
            "grid_auto_rows": null,
            "grid_gap": null,
            "max_width": null,
            "order": null,
            "_view_module_version": "1.2.0",
            "grid_template_areas": null,
            "object_position": null,
            "object_fit": null,
            "grid_auto_columns": null,
            "margin": null,
            "display": null,
            "left": null
          }
        },
        "2b0a8f107eea4683937bf286c3272383": {
          "model_module": "@jupyter-widgets/controls",
          "model_name": "DescriptionStyleModel",
          "model_module_version": "1.5.0",
          "state": {
            "_view_name": "StyleView",
            "_model_name": "DescriptionStyleModel",
            "description_width": "",
            "_view_module": "@jupyter-widgets/base",
            "_model_module_version": "1.5.0",
            "_view_count": null,
            "_view_module_version": "1.2.0",
            "_model_module": "@jupyter-widgets/controls"
          }
        },
        "f307f18f69084a57864f73149d653b82": {
          "model_module": "@jupyter-widgets/base",
          "model_name": "LayoutModel",
          "model_module_version": "1.2.0",
          "state": {
            "_view_name": "LayoutView",
            "grid_template_rows": null,
            "right": null,
            "justify_content": null,
            "_view_module": "@jupyter-widgets/base",
            "overflow": null,
            "_model_module_version": "1.2.0",
            "_view_count": null,
            "flex_flow": null,
            "width": null,
            "min_width": null,
            "border": null,
            "align_items": null,
            "bottom": null,
            "_model_module": "@jupyter-widgets/base",
            "top": null,
            "grid_column": null,
            "overflow_y": null,
            "overflow_x": null,
            "grid_auto_flow": null,
            "grid_area": null,
            "grid_template_columns": null,
            "flex": null,
            "_model_name": "LayoutModel",
            "justify_items": null,
            "grid_row": null,
            "max_height": null,
            "align_content": null,
            "visibility": null,
            "align_self": null,
            "height": null,
            "min_height": null,
            "padding": null,
            "grid_auto_rows": null,
            "grid_gap": null,
            "max_width": null,
            "order": null,
            "_view_module_version": "1.2.0",
            "grid_template_areas": null,
            "object_position": null,
            "object_fit": null,
            "grid_auto_columns": null,
            "margin": null,
            "display": null,
            "left": null
          }
        }
      }
    }
  },
  "cells": [
    {
      "cell_type": "markdown",
      "metadata": {
        "id": "G4zJlrIGQ6Gr"
      },
      "source": [
        "## **Introduction**\n",
        "\n",
        "According to a dataset to classify Short Message Service (SMS) as spam or not, the goal will be to detect spam messages using Bidirectional Encoder Representations from Transformers (BERT) and some other Machine Learning (ML) classification algorithms.\n",
        "\n",
        "Among these algorithms, four ML classification algorithms will be compared:\n",
        "\n",
        "BERT\n",
        "\n",
        "K-Nearest Neighbors (KNN)\n",
        "\n",
        "Multinomial Naive Bayes\n",
        "\n",
        "Support Vector Model (SVM)\n",
        "\n"
      ]
    },
    {
      "cell_type": "markdown",
      "metadata": {
        "id": "fEysmAKpRYmU"
      },
      "source": [
        "### **Objectives**\n",
        "To compare these algorithms, I will:\n",
        "\n",
        "Do Feature Engineering: create the features according to the raw data.\n",
        "\n",
        "Analyze and understand the data made available.\n",
        "\n",
        "Pre-process these data according to the algorithm: for instance, some of these algorithms only work with numerical values.\n",
        "\n",
        "Do Fine-Tuning: optimize the training parameters of the ML algorithm.\n",
        "\n",
        "Compare the results obtained.\n",
        "\n",
        "Take the best and/or simplest algorithm if there is no significant difference."
      ]
    },
    {
      "cell_type": "markdown",
      "metadata": {
        "id": "zYNzxTRiRu5T"
      },
      "source": [
        "**Installing and Importing Packages**"
      ]
    },
    {
      "cell_type": "code",
      "metadata": {
        "id": "O_pZVN6-3JBR"
      },
      "source": [
        "!python -m pip install matplotlib\n",
        "!python -m pip install nltk\n",
        "!python -m pip install numpy\n",
        "!python -m pip install pandas\n",
        "!python -m pip install seaborn\n",
        "!python -m pip install sklearn\n",
        "!python -m pip install tensorflow\n",
        "!python -m pip install transformers"
      ],
      "execution_count": null,
      "outputs": []
    },
    {
      "cell_type": "code",
      "metadata": {
        "id": "aeHwH0ZI48b3"
      },
      "source": [
        "import re\n",
        "\n",
        "import matplotlib.pyplot as plt\n",
        "import nltk\n",
        "import numpy as np\n",
        "import pandas as pd\n",
        "import seaborn as sns\n",
        "import tensorflow as tf\n",
        "from sklearn import feature_extraction\n",
        "from sklearn.feature_extraction.text import CountVectorizer, TfidfTransformer\n",
        "from sklearn.metrics import (accuracy_score, confusion_matrix, precision_score,\n",
        "                             recall_score)\n",
        "from sklearn.model_selection import GridSearchCV, train_test_split\n",
        "from sklearn.pipeline import Pipeline\n",
        "from transformers import TFTrainer, TFTrainingArguments"
      ],
      "execution_count": null,
      "outputs": []
    },
    {
      "cell_type": "code",
      "metadata": {
        "id": "8l_yqhCn5C1E"
      },
      "source": [
        "nltk.download(\"punkt\")\n",
        "nltk.download(\"stopwords\")\n",
        "nltk.download(\"wordnet\")"
      ],
      "execution_count": null,
      "outputs": []
    },
    {
      "cell_type": "code",
      "metadata": {
        "id": "NsJr7CSD5ITD"
      },
      "source": [
        "df = pd.read_csv(\"/content/sms_spam.csv\", encoding=\"latin-1\")\n",
        "df.head(n=10)"
      ],
      "execution_count": null,
      "outputs": []
    },
    {
      "cell_type": "code",
      "metadata": {
        "id": "1WctZ3fUBDoO"
      },
      "source": [
        "df.describe()"
      ],
      "execution_count": null,
      "outputs": []
    },
    {
      "cell_type": "markdown",
      "metadata": {
        "id": "Jp7-sG7gSAKy"
      },
      "source": [
        "**Preprocessing**\n",
        "\n",
        "Binarized the spam column"
      ]
    },
    {
      "cell_type": "code",
      "metadata": {
        "id": "xr8UDQgT5nFW"
      },
      "source": [
        "df[\"type\"].replace({\"ham\": 0, \"spam\": 1}, inplace=True)\n",
        "df.rename({\"type\": \"is_spam\", \"text\": \"content\"}, axis=1, inplace=True)\n",
        "df.head(n=10)"
      ],
      "execution_count": null,
      "outputs": []
    },
    {
      "cell_type": "markdown",
      "metadata": {
        "id": "66I1MCFvSaTH"
      },
      "source": [
        "the data is now clearer, so we look at the shape "
      ]
    },
    {
      "cell_type": "code",
      "metadata": {
        "id": "6p7K0jLT960M"
      },
      "source": [
        "df.shape"
      ],
      "execution_count": null,
      "outputs": []
    },
    {
      "cell_type": "markdown",
      "metadata": {
        "id": "U98tLyjGSf2B"
      },
      "source": [
        "There are 5559 rows and 2 columns "
      ]
    },
    {
      "cell_type": "markdown",
      "metadata": {
        "id": "aepBtCf1SpHy"
      },
      "source": [
        "**Feature Engineering**\n",
        "\n",
        "By Feature Engineering, we refer to the creation of the features according to the raw data. It is on the basis of these features that the training of the classification ML models will be done.\n",
        "\n",
        "Among these features, we will create these:\n",
        "\n",
        "nwords: feature that will contain the number of words in an SMS.\n",
        "message_len: feature that will contain the number of characters in an SMS message.\n",
        "\n",
        "nupperchars: feature that will contain the number of uppercase characters in an SMS.\n",
        "\n",
        "nupperwords: feature that will contain the number of uppercase words in an SMS.\n",
        "\n",
        "is_free_o_win: feature that will contain 1 if the SMS contains the words \"free\" and \"win\"; 0 otherwise.\n",
        "\n",
        "is_url: feature that will contain 1 if the SMS contains a URL; 0 otherwise.\n"
      ]
    },
    {
      "cell_type": "code",
      "metadata": {
        "id": "IHMWDXD6-Bpt"
      },
      "source": [
        "df[\"nwords\"] = df[\"content\"].apply(lambda s: len(re.findall(r\"\\w+\", s)))\n",
        "df[\"message_len\"] = df[\"content\"].apply(len)\n",
        "df[\"nupperchars\"] = df[\"content\"].apply(\n",
        "    lambda s: sum(1 for c in s if c.isupper())\n",
        ")\n",
        "df[\"nupperwords\"] = df[\"content\"].apply(\n",
        "    lambda s: len(re.findall(r\"\\b[A-Z][A-Z]+\\b\", s))\n",
        ")\n",
        "df[\"is_free_or_win\"] = df[\"content\"].apply(\n",
        "    lambda s: int(\"free\" in s.lower() or \"win\" in s.lower())\n",
        ")\n",
        "df[\"is_url\"] = df[\"content\"].apply(\n",
        "    lambda s: 1\n",
        "    if re.search(\n",
        "        r\"http[s]?://(?:[a-zA-Z]|[0-9]|[$-_@.&+]|[!*\\(\\),]|(?:%[0-9a-fA-F][0-9a-fA-F]))+\",\n",
        "        s,\n",
        "    )\n",
        "    else 0\n",
        ")\n",
        "df.head(n=25)"
      ],
      "execution_count": null,
      "outputs": []
    },
    {
      "cell_type": "markdown",
      "metadata": {
        "id": "LJjFF9K0TCMG"
      },
      "source": [
        "***Analyzing and Understanding the data ***\n",
        "\n",
        "It is important to analyze and understand the available data. Indeed, once a better understanding of the dataset is achieved, we will be able to create the necessary features for the dataset.\n",
        "\n",
        "we will analyze the following eight aspects:\n",
        "\n",
        "**the SMS distribution**\n",
        "\n",
        "**the word frequency in spam and ham SMS** \n",
        "\n",
        "**the length of spam SMS compared to ham SMS**\n",
        "\n",
        "**the number of words in spam SMS compared to ham SMS**\n",
        "\n",
        "**the number of uppercase words in spam SMS compared to ham SMS**\n",
        "\n",
        "**the number of uppercase characters in spam SMS compared to ham SMS**\n",
        "\n",
        "**the content of the words \"free\" or \"win\" in the SMS**\n",
        "\n",
        "**the content of a URL in the SMS.**"
      ]
    },
    {
      "cell_type": "markdown",
      "metadata": {
        "id": "Auh1us7jT5fU"
      },
      "source": [
        "***SMS Distribution***"
      ]
    },
    {
      "cell_type": "code",
      "metadata": {
        "id": "kzlmr2zh-HUN"
      },
      "source": [
        "n_sms = pd.value_counts(df[\"is_spam\"], sort=True)\n",
        "n_sms.plot(kind=\"pie\", labels=[\"ham\", \"spam\"], autopct=\"%1.0f%%\")\n",
        "\n",
        "plt.title(\"SMS Distribution\")\n",
        "plt.ylabel(\"\")\n",
        "plt.show()"
      ],
      "execution_count": null,
      "outputs": []
    },
    {
      "cell_type": "markdown",
      "metadata": {
        "id": "btgdaIiFUClT"
      },
      "source": [
        "87% of the messages are ham and 13% are ham "
      ]
    },
    {
      "cell_type": "markdown",
      "metadata": {
        "id": "VsLlurkOUK1K"
      },
      "source": [
        "***Word Frequency***\n",
        "\n",
        "We create two datasets, then sketch their corresponding graphs \n",
        "\n",
        "df1: will contain the words and their frequency in the SMS ham.\n",
        "\n",
        "df2: will contain the words and their frequency in the SMS spam."
      ]
    },
    {
      "cell_type": "code",
      "metadata": {
        "id": "G740YuLr_EZC"
      },
      "source": [
        "from collections import Counter\n",
        "\n",
        "df1 = pd.DataFrame.from_dict(\n",
        "    Counter(\" \".join(df[df['is_spam'] == 0][\"content\"]).split()).most_common(20)\n",
        ")\n",
        "df1 = df1.rename(columns={0: \"word_in_ham\", 1 : \"frequency\"})\n",
        "                 \n",
        "df2 = pd.DataFrame.from_dict(\n",
        "    Counter(\" \".join(df[df['is_spam'] == 1][\"content\"]).split()).most_common(20)\n",
        ")\n",
        "df2 = df2.rename(columns={0: \"word_in_spam\", 1 : \"frequency\"})"
      ],
      "execution_count": null,
      "outputs": []
    },
    {
      "cell_type": "code",
      "metadata": {
        "id": "cR0Z14wbQJls"
      },
      "source": [
        "df1.plot.bar(legend=False)\n",
        "plt.xticks(np.arange(len(df1[\"word_in_ham\"])), df1[\"word_in_ham\"])\n",
        "plt.title(\"Word Frequency in Ham SMS.\")\n",
        "plt.xlabel(\"Words\")\n",
        "plt.ylabel(\"Frequency\")\n",
        "plt.show()"
      ],
      "execution_count": null,
      "outputs": []
    },
    {
      "cell_type": "code",
      "metadata": {
        "id": "Hz5PK-4sQtvx"
      },
      "source": [
        "df2.plot.bar(legend=False, color=\"orange\")\n",
        "plt.xticks(np.arange(len(df2[\"word_in_spam\"])), df2[\"word_in_spam\"])\n",
        "plt.title(\"Word Frequency in Spam SMS.\")\n",
        "plt.xlabel(\"Word\")\n",
        "plt.ylabel(\"Frequency\")\n",
        "plt.show()\n"
      ],
      "execution_count": null,
      "outputs": []
    },
    {
      "cell_type": "markdown",
      "metadata": {
        "id": "Xm_urUE2VT5B"
      },
      "source": [
        "After sketching, we can see that stop words are the most frequent words in both spam and ham SMS."
      ]
    },
    {
      "cell_type": "markdown",
      "metadata": {
        "id": "lVQY53tXVZrS"
      },
      "source": [
        "***Length***\n",
        "\n",
        "Lets see of text length has influences spam or ham texts "
      ]
    },
    {
      "cell_type": "code",
      "metadata": {
        "id": "HgWe9yMwQyNm"
      },
      "source": [
        "_, ax = plt.subplots(figsize=(10, 4))\n",
        "sns.kdeplot(\n",
        "    df.loc[df.is_spam == 0, \"message_len\"],\n",
        "    shade=True,\n",
        "    label=\"Ham\",\n",
        "    clip=(-50, 250),\n",
        ")\n",
        "sns.kdeplot(df.loc[df.is_spam == 1, \"message_len\"], shade=True, label=\"Spam\")\n",
        "ax.set(\n",
        "    xlabel=\"Length\",\n",
        "    ylabel=\"Density\",\n",
        "    title=\"Length of SMS.\",\n",
        ")\n",
        "ax.legend(loc=\"upper right\")\n",
        "plt.show()"
      ],
      "execution_count": null,
      "outputs": []
    },
    {
      "cell_type": "markdown",
      "metadata": {
        "id": "Ed3yU_i-VsOB"
      },
      "source": [
        "We find that, spam messages are longer than ham messages (that is normal due to the number of words).\n",
        "Spam messages have around 150 characters."
      ]
    },
    {
      "cell_type": "markdown",
      "metadata": {
        "id": "BSJ-55W2WlId"
      },
      "source": [
        "***Number of Words***"
      ]
    },
    {
      "cell_type": "code",
      "metadata": {
        "id": "OKlnikurWnDM"
      },
      "source": [
        "_, ax = plt.subplots(figsize=(10, 4))\n",
        "sns.kdeplot(\n",
        "    df.loc[df.is_spam == 0, \"nwords\"],\n",
        "    shade=True,\n",
        "    label=\"Ham\",\n",
        "    clip=(-10, 50),\n",
        ")\n",
        "sns.kdeplot(df.loc[df.is_spam == 1, \"nwords\"], shade=True, label=\"Spam\")\n",
        "ax.set(\n",
        "    xlabel=\"Words\",\n",
        "    ylabel=\"Density\",\n",
        "    title=\"Number of Words in SMS.\",\n",
        ")\n",
        "ax.legend(loc=\"upper right\")"
      ],
      "execution_count": null,
      "outputs": []
    },
    {
      "cell_type": "markdown",
      "metadata": {
        "id": "oFY0KUxrWui3"
      },
      "source": [
        "With this plot, we  notice that spam SMS have more words than ham SMS.\n",
        "\n",
        "Spam SMS seem to have around 30 words, where ham SMS seem to have around 10 words to 25 words and more."
      ]
    },
    {
      "cell_type": "markdown",
      "metadata": {
        "id": "_j8EhnP3XFwY"
      },
      "source": [
        "***Number of Uppercased Words***"
      ]
    },
    {
      "cell_type": "code",
      "metadata": {
        "id": "uwl2YAI8XMTm"
      },
      "source": [
        "_, ax = plt.subplots(figsize=(10, 4))\n",
        "sns.kdeplot(\n",
        "    df.loc[df.is_spam == 0, \"nupperwords\"],\n",
        "    shade=True,\n",
        "    label=\"Ham\",\n",
        "    clip=(0, 35),\n",
        ")\n",
        "sns.kdeplot(df.loc[df.is_spam == 1, \"nupperwords\"], shade=True, label=\"Spam\")\n",
        "ax.set(\n",
        "    xlabel=\"Uppercased Words\",\n",
        "    ylabel=\"Density\",\n",
        "    title=\"Number of Uppercased Words.\",\n",
        ")\n",
        "ax.legend(loc=\"upper right\")\n",
        "plt.show()"
      ],
      "execution_count": null,
      "outputs": []
    },
    {
      "cell_type": "markdown",
      "metadata": {
        "id": "zVeHlW7wbJUD"
      },
      "source": [
        "With this plot, we notice that there is a small pattern with the number of uppercased words. The density is lower which is normal due to the fact that there is less spam messages than ham messages.\n",
        "\n",
        "We can also notice that the number of uppercased words is around zero for the ham messages."
      ]
    },
    {
      "cell_type": "markdown",
      "metadata": {
        "id": "yI-CUbyPbgZr"
      },
      "source": [
        "***Number of Uppercase Characters***"
      ]
    },
    {
      "cell_type": "code",
      "metadata": {
        "id": "raMwy2k6bqb8"
      },
      "source": [
        "_, ax = plt.subplots(figsize=(10, 5))\n",
        "ax = sns.scatterplot(x=\"message_len\", y=\"nupperchars\", hue=\"is_spam\", data=df)\n",
        "ax.set(\n",
        "    xlabel=\"Characters\",\n",
        "    ylabel=\"Uppercase Characters\",\n",
        "    title=\"Number of Uppercased Characters in SMS.\",\n",
        ")\n",
        "ax.legend(loc=\"upper right\")\n",
        "plt.show()"
      ],
      "execution_count": null,
      "outputs": []
    },
    {
      "cell_type": "markdown",
      "metadata": {
        "id": "VuBv-GIUc9rU"
      },
      "source": [
        "We notice that spam messages are clustered together based on their length. But we can also see that some spam messages have more uppercased characters that others.\n",
        "There is a linear pattern for ham messages that contains more uppercased character than others."
      ]
    },
    {
      "cell_type": "markdown",
      "metadata": {
        "id": "PUNSldqQciRU"
      },
      "source": [
        "***Contains \"free\" or \"win\"***"
      ]
    },
    {
      "cell_type": "code",
      "metadata": {
        "id": "hSK7IjRXchwJ"
      },
      "source": [
        "_, ax = plt.subplots(figsize=(10, 4))\n",
        "grouped_data = (\n",
        "    df.groupby(\"is_spam\")[\"is_free_or_win\"]\n",
        "    .value_counts(normalize=True)\n",
        "    .rename(\"Percentage of Group\")\n",
        "    .reset_index()\n",
        ")\n",
        "print(grouped_data)\n",
        "\n",
        "sns.barplot(\n",
        "    x=\"is_spam\",\n",
        "    y=\"Percentage of Group\",\n",
        "    hue=\"is_free_or_win\",\n",
        "    data=grouped_data,\n",
        ")\n",
        "plt.show()"
      ],
      "execution_count": null,
      "outputs": []
    },
    {
      "cell_type": "markdown",
      "metadata": {
        "id": "W5Fuvc7WdV4_"
      },
      "source": [
        "There is **36.94%** of spam SMS that contains the words \"free\" or \"win\".\n",
        "\n",
        "There is only **2.69%** of ham SMS that contains the words \"free\" or \"win\"."
      ]
    },
    {
      "cell_type": "markdown",
      "metadata": {
        "id": "gns0NQIVduYq"
      },
      "source": [
        "***Contains URL***"
      ]
    },
    {
      "cell_type": "code",
      "metadata": {
        "id": "VthOII_zdt5P"
      },
      "source": [
        "_, ax = plt.subplots(figsize=(10, 4))\n",
        "grouped_data = (\n",
        "    df.groupby(\"is_spam\")[\"is_url\"]\n",
        "    .value_counts(normalize=True)\n",
        "    .rename(\"Percentage of Group\")\n",
        "    .reset_index()\n",
        ")\n",
        "print(grouped_data)\n",
        "\n",
        "sns.barplot(\n",
        "    x=\"is_spam\",\n",
        "    y=\"Percentage of Group\",\n",
        "    hue=\"is_url\",\n",
        "    data=grouped_data,\n",
        ")\n",
        "plt.show()"
      ],
      "execution_count": null,
      "outputs": []
    },
    {
      "cell_type": "markdown",
      "metadata": {
        "id": "5kUWzFH_d1Vk"
      },
      "source": [
        "there is **2.55%** of spam that contains a URL\n",
        "\n",
        "there is only **97.45%** of spam that doesn't contains a URL."
      ]
    },
    {
      "cell_type": "markdown",
      "metadata": {
        "id": "Qo2O0vood7F1"
      },
      "source": [
        "## **Preprocessing Data**"
      ]
    },
    {
      "cell_type": "markdown",
      "metadata": {
        "id": "wfLfF3MMeIl8"
      },
      "source": [
        "Preprocessing data is a process of preparing raw data to make them suitable to a model.\n",
        "\n",
        "- Our dataset has some drawbacks like:\n",
        "\n",
        "- presence of stop words (e.g., so, is, a)\n",
        "\n",
        "- presence of punctuations and digits\n",
        "\n",
        "- words are not lemmatized\n",
        "\n",
        "\n",
        "Since this dataset has a lot of abbreviations, we will not apply stemming, but only lemmatization. Also, since a SMS is not a formal message, it may be wise to keep capital letters and abbreviations.\n",
        "\n",
        "\n",
        "We would remove stop words, punctuations and digits and lemmatize"
      ]
    },
    {
      "cell_type": "code",
      "metadata": {
        "id": "egpXCBZCewyY"
      },
      "source": [
        "from nltk import WordNetLemmatizer\n",
        "from nltk.corpus import stopwords\n",
        "from nltk.tokenize import word_tokenize\n",
        "\n",
        "df[\"content\"] = df[\"content\"].apply(\n",
        "    lambda row: re.sub(r\"[^a-zA-Z]+\", \" \", row)  \n",
        ")\n",
        "df[\"content\"] = df[\"content\"].apply(lambda row: word_tokenize(row))\n",
        "df[\"content\"] = df[\"content\"].apply(\n",
        "    lambda row: [\n",
        "        token for token in row if token not in set(stopwords.words(\"english\"))\n",
        "    ]\n",
        ")\n",
        "df[\"content\"] = df[\"content\"].apply(\n",
        "    lambda row: \" \".join([WordNetLemmatizer().lemmatize(word) for word in row])\n",
        ")\n",
        "df.head(n=25)"
      ],
      "execution_count": null,
      "outputs": []
    },
    {
      "cell_type": "markdown",
      "metadata": {
        "id": "3D0synD6fN75"
      },
      "source": [
        "## **Creation of Training and Testing Datasets**"
      ]
    },
    {
      "cell_type": "code",
      "metadata": {
        "id": "fOEZAomJfNqV"
      },
      "source": [
        "X_train, X_test, y_train, y_test = train_test_split(\n",
        "    df.drop(\"is_spam\", axis=1), df[\"is_spam\"], stratify=df[\"is_spam\"], test_size=0.2\n",
        ")\n",
        "print(f\"Training data: {len(X_train)} (80%)\")\n",
        "print(f\" Testing data: {len(X_test)} (20%)\")"
      ],
      "execution_count": null,
      "outputs": []
    },
    {
      "cell_type": "markdown",
      "metadata": {
        "id": "XnPdYS1Gw647"
      },
      "source": [
        "### **BERT**\n",
        "\n",
        "BERT is a bidirectional transformer pretrained using a combination of Masked Language Modeling (MLM) objective and Next Sentence Prediction (NSP) on a large corpus comprising the Book Corpus and Wikipedia."
      ]
    },
    {
      "cell_type": "markdown",
      "metadata": {
        "id": "RhikqfybxDC6"
      },
      "source": [
        "**Tokenization**\n",
        "\n",
        "Tokenization will allow us to feed batches of sequences into the model at the same time, only if these two conditions are met:\n",
        "\n",
        "- the SMS are padded to the same length\n",
        "\n",
        "- the SMS are truncated to be not longer model's maximum input length\n",
        "\n",
        "To do the tokenization of our datasets, we also need to choose a pre-trained model. For this dataset, the basic model (bert-base-uncased) will be sufficient:"
      ]
    },
    {
      "cell_type": "code",
      "metadata": {
        "id": "9NFsLwQ0fxxG",
        "colab": {
          "base_uri": "https://localhost:8080/",
          "height": 182,
          "referenced_widgets": [
            "394d30bed74a47dfa8f374666c92f8f4",
            "83382e68bad24f4897b1f9265ae5964b",
            "c640f67ecf244b4c842dd6169d4c541d",
            "73bc96a1ddaf4996951d639157f26f48",
            "ebef64605e96486cac324fee287e6c0a",
            "ac41cb0c04694f7aa809191c6b6a3963",
            "6faa768d6380428b9f1acdab1a348e58",
            "570fb575a2c648e9831f5b47fd1c3467",
            "8d7f79a217ea4348aebb64e20436dbd3",
            "7e7998742c644da88e01f87776b1e177",
            "a05e2fb09bb9492d984e1cf7b020e05e",
            "fb0eef94d06f492594a510257f6d656c",
            "b9d5e20692bf445dba264f8d24cb2669",
            "e12d4ab585364c6991e1dc74335e9182",
            "48a9c5ed499d41e38e30c40726f6022d",
            "84f074d1c5b1436c871018aa1af0268d",
            "72ef998b5b5d47db8cf210c658528914",
            "4350ef5eef4546d28f0afb094d89be61",
            "ec612735c52a413793c8fe6fe62b3a55",
            "fda3e6f35a974d1f80cc42c77752e1e9",
            "19a306321dc445499a04548f671cab3b",
            "42a9411649dd45f598bda5c0536d781c",
            "29d1f4ccb0b74113bea0d8994dcd0e09",
            "4d5568b6e5624891b89ba4e198535789",
            "ace38629a65b4d02a2d5a0cd4ff791c4",
            "2379fe42bc724b9e90b3ea4c898b1a1a",
            "f53117f057d544ea88dd80af25bd3e75",
            "a71197684f404390a9e88c43bb4accbb",
            "c71d6f7efff7459884efbc1d475de225",
            "cebd31568a4b44b38945fc1fbcf42d7a",
            "505f01c8145a4930bc871064aa23b61a",
            "c709dc39a74d411c9e037f79783fd3b3",
            "fdbebc98309e41daba20963dcc97e7b1",
            "0d8863b4b80346e79a391c47c7b7eb47",
            "65dc101f628d4c07bd716c6610e6a3b9",
            "0683197b5e8e48939cddfddd52e6f534",
            "3bbfdce5666c4185ae7af42560f6ff42",
            "ffa46ef6aef84fd589599d66118e1959",
            "dcdf8fa8de9d436092fef3d4b56fa968",
            "a91bda00782a436783f428b2c401c4f9",
            "b88eb050f5264c64a4da3a2c33281b8a",
            "7530d436a0074a8d9f0886c078c2c282",
            "2b0a8f107eea4683937bf286c3272383",
            "f307f18f69084a57864f73149d653b82"
          ]
        },
        "outputId": "5a7c108c-81f5-4000-c15e-14b97815848b"
      },
      "source": [
        "from transformers import BertTokenizerFast\n",
        "\n",
        "tokenizer = BertTokenizerFast.from_pretrained(\"bert-base-uncased\")\n",
        "tokenizer\n"
      ],
      "execution_count": null,
      "outputs": [
        {
          "output_type": "display_data",
          "data": {
            "application/vnd.jupyter.widget-view+json": {
              "model_id": "394d30bed74a47dfa8f374666c92f8f4",
              "version_minor": 0,
              "version_major": 2
            },
            "text/plain": [
              "Downloading:   0%|          | 0.00/226k [00:00<?, ?B/s]"
            ]
          },
          "metadata": {}
        },
        {
          "output_type": "display_data",
          "data": {
            "application/vnd.jupyter.widget-view+json": {
              "model_id": "fb0eef94d06f492594a510257f6d656c",
              "version_minor": 0,
              "version_major": 2
            },
            "text/plain": [
              "Downloading:   0%|          | 0.00/455k [00:00<?, ?B/s]"
            ]
          },
          "metadata": {}
        },
        {
          "output_type": "display_data",
          "data": {
            "application/vnd.jupyter.widget-view+json": {
              "model_id": "29d1f4ccb0b74113bea0d8994dcd0e09",
              "version_minor": 0,
              "version_major": 2
            },
            "text/plain": [
              "Downloading:   0%|          | 0.00/28.0 [00:00<?, ?B/s]"
            ]
          },
          "metadata": {}
        },
        {
          "output_type": "display_data",
          "data": {
            "application/vnd.jupyter.widget-view+json": {
              "model_id": "0d8863b4b80346e79a391c47c7b7eb47",
              "version_minor": 0,
              "version_major": 2
            },
            "text/plain": [
              "Downloading:   0%|          | 0.00/570 [00:00<?, ?B/s]"
            ]
          },
          "metadata": {}
        },
        {
          "output_type": "execute_result",
          "data": {
            "text/plain": [
              "PreTrainedTokenizerFast(name_or_path='bert-base-uncased', vocab_size=30522, model_max_len=512, is_fast=True, padding_side='right', special_tokens={'unk_token': '[UNK]', 'sep_token': '[SEP]', 'pad_token': '[PAD]', 'cls_token': '[CLS]', 'mask_token': '[MASK]'})"
            ]
          },
          "metadata": {},
          "execution_count": 22
        }
      ]
    },
    {
      "cell_type": "markdown",
      "metadata": {
        "id": "xESRT6iVxgWp"
      },
      "source": [
        "Before we can encode our datasets with BERT, it is important to decide on a maximum sentence length for padding/truncating to. This will allow us to have a better speed for training and evaluation.\n",
        "\n",
        "To do this, we will perform one tokenization pass of the datasets in order to measure the maximum sentence length:"
      ]
    },
    {
      "cell_type": "code",
      "metadata": {
        "id": "sKnN2K6ex6M-"
      },
      "source": [
        "max_len = 0\n",
        "for row in X_train[\"content\"]:\n",
        "    max_len = max(max_len, len(tokenizer.encode(row)))\n",
        "print(f\"Max sentence length (train): {max_len}\")\n",
        "\n",
        "max_len = 0\n",
        "for row in X_test[\"content\"]:\n",
        "    max_len = max(max_len, len(tokenizer.encode(row)))\n",
        "print(f\"Max sentence length (test): {max_len}\")"
      ],
      "execution_count": null,
      "outputs": []
    },
    {
      "cell_type": "markdown",
      "metadata": {
        "id": "tOv4V0bFx_oQ"
      },
      "source": [
        "Since we have that the maximum length sentence is 92 for the training dataset and 93 for the testing dataset, we will take a maximum length of 96 characters for both datasets.\n",
        "\n"
      ]
    },
    {
      "cell_type": "markdown",
      "metadata": {
        "id": "ER16TEktyEEP"
      },
      "source": [
        "Based on this pre-trained model, the encodings for our training and testing datasets are generated as follows:"
      ]
    },
    {
      "cell_type": "code",
      "metadata": {
        "id": "r6n0CMayyApM"
      },
      "source": [
        "train_encodings = tokenizer(\n",
        "    X_train[\"content\"].tolist(),\n",
        "    max_length=96,\n",
        "    padding=\"max_length\",\n",
        "    truncation=True,\n",
        ")\n",
        "test_encodings = tokenizer(\n",
        "    X_test[\"content\"].tolist(),\n",
        "    max_length=96,\n",
        "    padding=\"max_length\",\n",
        "    truncation=True,\n",
        ")"
      ],
      "execution_count": null,
      "outputs": []
    },
    {
      "cell_type": "markdown",
      "metadata": {
        "id": "fz1HljlwyKyL"
      },
      "source": [
        "**Transformation of Labels and Encodings**\n",
        "\n",
        "Before we can Fine-Tuning and training our model, we must batched these encodings to a TensorSliceDataset object, so that each key in the batch encoding corresponds to a hyper-parameters named according to the model we are going to train:"
      ]
    },
    {
      "cell_type": "code",
      "metadata": {
        "id": "qFxSZd3syKL5"
      },
      "source": [
        "train_dataset = tf.data.Dataset.from_tensor_slices(\n",
        "    (dict(train_encodings), y_train)\n",
        ")\n",
        "test_dataset = tf.data.Dataset.from_tensor_slices(\n",
        "    (dict(test_encodings), y_test)\n",
        ")"
      ],
      "execution_count": null,
      "outputs": []
    },
    {
      "cell_type": "markdown",
      "metadata": {
        "id": "SZzhN4cgySyY"
      },
      "source": [
        "We are now ready to Fine-Tuning and training our BERT model!"
      ]
    },
    {
      "cell_type": "markdown",
      "metadata": {
        "id": "9MpCNgT9yYRr"
      },
      "source": [
        "**Fine-Tuning and Training**\n",
        "\n",
        "Fine-tuning consists of generating embeddings specific to a task. Since we would like to create embeddings specifically for a classification task, we will have to train our data only for this task. However, for a pre-trained BERT model that is best suited for multiple tasks, fine-tuning will not be possible. It will therefore be necessary to generate the BERT embeddings as features and pass them through an independent classifier (e.g., RandomForest).\n",
        "\n",
        "Using the TFTrainingArguments class present in the huggingface/transformers module, the Fine-Tuning can be done this way:"
      ]
    },
    {
      "cell_type": "code",
      "metadata": {
        "id": "QBZH3J03yTXW"
      },
      "source": [
        "training_args = TFTrainingArguments(\n",
        "    output_dir=\"/kaggle/working/sms/results/bert\",\n",
        "    num_train_epochs=8,\n",
        "    per_device_train_batch_size=16,\n",
        "    warmup_steps=500,\n",
        "    weight_decay=0.01,\n",
        "    logging_dir=\"/kaggle/working/sms/logs/bert\",\n",
        "    logging_steps=10,\n",
        ")"
      ],
      "execution_count": null,
      "outputs": []
    },
    {
      "cell_type": "markdown",
      "metadata": {
        "id": "EG7gRLASyjHy"
      },
      "source": [
        "Following Fine-Tuning and our datasets, the training of the BERT model can be done as follows:"
      ]
    },
    {
      "cell_type": "code",
      "metadata": {
        "id": "Qy6MPlGkQCfK"
      },
      "source": [
        "from transformers import TFBertForSequenceClassification\n",
        "\n",
        "with training_args.strategy.scope():\n",
        "    model = TFBertForSequenceClassification.from_pretrained(\n",
        "        \"bert-base-uncased\"\n",
        "    )\n",
        "\n",
        "trainer = TFTrainer(\n",
        "    model=model, args=training_args, train_dataset=train_dataset\n",
        ")\n"
      ],
      "execution_count": null,
      "outputs": []
    },
    {
      "cell_type": "code",
      "metadata": {
        "id": "q_Qs_7wsyrsA"
      },
      "source": [
        "trainer.save_model(\"/kaggle/working/sms/models/bert\")\n",
        "tokenizer.save_pretrained(training_args.output_dir)"
      ],
      "execution_count": null,
      "outputs": []
    },
    {
      "cell_type": "markdown",
      "metadata": {
        "id": "G2VRT-RCzFNp"
      },
      "source": [
        "**Measurement of Predictions**\n",
        "\n",
        "The measurement of SMS predictions present in our test dataset as spam or ham, will allow us to make sure that the model is well trained.\n",
        "\n",
        "Predictions\n",
        "\n",
        "Our BERT model being trained, we can now use it to predict if the SMS in our test dataset are spams or not:"
      ]
    },
    {
      "cell_type": "code",
      "metadata": {
        "id": "64-zJaqkzIde"
      },
      "source": [
        "preds, label_ids, metrics = trainer.predict(test_dataset)\n",
        "preds[:5]"
      ],
      "execution_count": null,
      "outputs": []
    },
    {
      "cell_type": "code",
      "metadata": {
        "id": "3Mr0jW7j1LXm"
      },
      "source": [
        "print(f\"Test dataset size: {len(y_test)}\")\n",
        "print(f\" Predictions size: {len(preds)}\")\n"
      ],
      "execution_count": null,
      "outputs": []
    },
    {
      "cell_type": "code",
      "metadata": {
        "id": "Pmioskzf1gnT"
      },
      "source": [
        "preds = np.argmax(preds, axis=1)\n",
        "preds"
      ],
      "execution_count": null,
      "outputs": []
    },
    {
      "cell_type": "markdown",
      "metadata": {
        "id": "Ll9UT4SI1Z0s"
      },
      "source": [
        "**Confusion Matrix**\n",
        "\n",
        "Sketch the confusion matrix will allow us to measures the quality of the classification system:"
      ]
    },
    {
      "cell_type": "code",
      "metadata": {
        "id": "NJuucWrT1bls"
      },
      "source": [
        "plt.figure(figsize=(10, 4))\n",
        "\n",
        "heatmap = sns.heatmap(\n",
        "    data=pd.DataFrame(confusion_matrix(y_test, preds)),\n",
        "    annot=True,\n",
        "    fmt=\"d\",\n",
        "    cmap=sns.color_palette(\"Blues\", 50),\n",
        ")\n",
        "heatmap.xaxis.set_ticklabels(heatmap.xaxis.get_ticklabels(), fontsize=14)\n",
        "heatmap.yaxis.set_ticklabels(\n",
        "    heatmap.yaxis.get_ticklabels(), rotation=0, fontsize=14\n",
        ")\n",
        "\n",
        "plt.title(\"Confusion Matrix\")\n",
        "plt.ylabel(\"Ground Truth\")\n",
        "plt.xlabel(\"Prediction\")"
      ],
      "execution_count": null,
      "outputs": []
    },
    {
      "cell_type": "code",
      "metadata": {
        "id": "j-bo8Rdq2Ezb"
      },
      "source": [
        "print(f\"Precision: {precision_score(y_test, preds) * 100:.3f}%\")\n",
        "print(f\"   Recall: {recall_score(y_test, preds) * 100 :.3f}%\")\n",
        "print(f\" Accuracy: {accuracy_score(y_test, preds) * 100:.3f}%\")"
      ],
      "execution_count": null,
      "outputs": []
    },
    {
      "cell_type": "markdown",
      "metadata": {
        "id": "0AqgDbBQEyqf"
      },
      "source": [
        "# **KNN**\n",
        "\n",
        "K-Nearest Neighbors (KNN) is an approach to data classification that estimates how likely a data point is to be a member of one group or the other depending on what group the data points nearest to it are in."
      ]
    },
    {
      "cell_type": "markdown",
      "metadata": {
        "id": "OhOLTxScFAYS"
      },
      "source": [
        "***Fine-Tuning and Training***\n",
        "\n",
        "As we said before, let's use grid search techniques using cross-validation to determine the hyper-parameters of our model and train this model on them:\n",
        "\n",
        "To tune the hyper-parameters of the KNN, it is recommended to use grid search techniques using cross-validation (SEE: scikit-learn's documentation) to evaluate the performance of the model on the data at each value.\n",
        "\n",
        "Let's use this technique to train our model according to the optimal value of the neighbors hyper-parameter:"
      ]
    },
    {
      "cell_type": "code",
      "metadata": {
        "id": "4rgDprC-EtLr"
      },
      "source": [
        "from sklearn.neighbors import KNeighborsClassifier\n",
        "\n",
        "knn = GridSearchCV(\n",
        "    Pipeline(\n",
        "        [\n",
        "            (\"bow\", CountVectorizer()),\n",
        "            (\"tfidf\", TfidfTransformer()),\n",
        "            (\"clf\", KNeighborsClassifier()),\n",
        "        ]\n",
        "    ),\n",
        "    {\n",
        "        \"clf__n_neighbors\": (8, 15, 20, 25, 40, 55),\n",
        "    }\n",
        ")\n",
        "knn.fit(X=X_train[\"content\"], y=y_train)"
      ],
      "execution_count": null,
      "outputs": []
    },
    {
      "cell_type": "code",
      "metadata": {
        "id": "OCUyTS5fEwyR"
      },
      "source": [
        "preds = knn.predict(X_test[\"content\"])\n",
        "preds\n"
      ],
      "execution_count": null,
      "outputs": []
    },
    {
      "cell_type": "code",
      "metadata": {
        "id": "9-J62oQbFPew"
      },
      "source": [
        "plt.figure(figsize=(10, 4))\n",
        "\n",
        "heatmap = sns.heatmap(\n",
        "    data=pd.DataFrame(confusion_matrix(y_test, preds)),\n",
        "    annot=True,\n",
        "    fmt=\"d\",\n",
        "    cmap=sns.color_palette(\"Blues\", 50),\n",
        ")\n",
        "heatmap.xaxis.set_ticklabels(heatmap.xaxis.get_ticklabels(), fontsize=14)\n",
        "heatmap.yaxis.set_ticklabels(\n",
        "    heatmap.yaxis.get_ticklabels(), rotation=0, fontsize=14\n",
        ")\n",
        "\n",
        "plt.title(\"Confusion Matrix\")\n",
        "plt.ylabel(\"Ground Truth\")\n",
        "plt.xlabel(\"Prediction\")"
      ],
      "execution_count": null,
      "outputs": []
    },
    {
      "cell_type": "markdown",
      "metadata": {
        "id": "faasYHrLFT_U"
      },
      "source": [
        "Through the confusion matrix, we have:\n",
        "\n",
        "- 959 SMS being ham were well predicted: True Negative (TN)\n",
        "\n",
        "- 54 ham SMS have been detected as spam: False Negative (FN)\n",
        "\n",
        "- 4 spam SMS have been detected as ham: False Positive (FP)\n",
        "\n",
        "- 95 spam SMS have been detected as spam: True Positive (TP)."
      ]
    },
    {
      "cell_type": "code",
      "metadata": {
        "id": "CVXvOj07Fhra"
      },
      "source": [
        "print(f\"Precision: {precision_score(y_test, preds) * 100:.3f}%\")\n",
        "print(f\"   Recall: {recall_score(y_test, preds) * 100 :.3f}%\")\n",
        "print(f\" Accuracy: {accuracy_score(y_test, preds) * 100:.3f}%\")"
      ],
      "execution_count": null,
      "outputs": []
    },
    {
      "cell_type": "markdown",
      "metadata": {
        "id": "72rByrveFnus"
      },
      "source": [
        "# **Multinomial Naive Bayes Classifier**\n",
        "As the features of our dataset have discrete frequency counts, we will use the Multinomial type of Naive Bayes Model.\n",
        "\n",
        "To detect if a SMS is consider as spam or not, the Multinomial Naive Bayes classifier will use word counts in the content of the SMS with the help of the Bag-of-Words (BoW) method. This method, will elaborate a matrix of rows according to words, where each intersection corresponds to the frequency of occurrence of these words."
      ]
    },
    {
      "cell_type": "markdown",
      "metadata": {
        "id": "6sNkIZXNGAwi"
      },
      "source": [
        "***Fine-Tuning and Training***\n",
        "\n",
        "As we said before, let's use grid search techniques using cross-validation to determine the optimal value of the  𝛼  hyper-parameter of our model and train this model on this hyper-parameter:"
      ]
    },
    {
      "cell_type": "code",
      "metadata": {
        "id": "HrL3CKP1GARF"
      },
      "source": [
        "from sklearn.naive_bayes import MultinomialNB\n",
        "\n",
        "mnbayes = GridSearchCV(\n",
        "    Pipeline(\n",
        "        [\n",
        "            (\"bow\", CountVectorizer()),\n",
        "            (\"tfidf\", TfidfTransformer()),\n",
        "            (\"clf\", MultinomialNB()),\n",
        "        ]\n",
        "    ),\n",
        "    {\n",
        "        \"tfidf__use_idf\": (True, False),\n",
        "        \"clf__alpha\": (0.1, 1e-2, 1e-3),\n",
        "        \"clf__fit_prior\": (True, False),\n",
        "    },\n",
        ")\n",
        "mnbayes.fit(X=X_train[\"content\"], y=y_train)"
      ],
      "execution_count": null,
      "outputs": []
    },
    {
      "cell_type": "code",
      "metadata": {
        "id": "3-Lbj-kBGMeg"
      },
      "source": [
        "mnbayes.best_params_\n"
      ],
      "execution_count": null,
      "outputs": []
    },
    {
      "cell_type": "code",
      "metadata": {
        "id": "OImA3ocpGPwg"
      },
      "source": [
        "print(f\"{mnbayes.best_score_ * 100:.3f}%\") "
      ],
      "execution_count": null,
      "outputs": []
    },
    {
      "cell_type": "markdown",
      "metadata": {
        "id": "twrgDJvGGSv4"
      },
      "source": [
        "The mean cross-validated score is therefore 98.223%"
      ]
    },
    {
      "cell_type": "markdown",
      "metadata": {
        "id": "h_74q0E3GX96"
      },
      "source": [
        "***Predictions***\n",
        "\n",
        "Our Multinomial Naive Bayes model being trained, we can now use it to predict if the SMS in our test dataset are spams or not:"
      ]
    },
    {
      "cell_type": "code",
      "metadata": {
        "id": "WqSRfPleGUrr"
      },
      "source": [
        "preds = mnbayes.predict(X_test[\"content\"])\n",
        "preds\n"
      ],
      "execution_count": null,
      "outputs": []
    },
    {
      "cell_type": "code",
      "metadata": {
        "id": "iSZ27AUeGhkI"
      },
      "source": [
        "plt.figure(figsize=(10, 4))\n",
        "\n",
        "heatmap = sns.heatmap(\n",
        "    data=pd.DataFrame(confusion_matrix(y_test, preds)),\n",
        "    annot=True,\n",
        "    fmt=\"d\",\n",
        "    cmap=sns.color_palette(\"Blues\", 50),\n",
        ")\n",
        "heatmap.xaxis.set_ticklabels(heatmap.xaxis.get_ticklabels(), fontsize=14)\n",
        "heatmap.yaxis.set_ticklabels(\n",
        "    heatmap.yaxis.get_ticklabels(), rotation=0, fontsize=14\n",
        ")\n",
        "\n",
        "plt.title(\"Confusion Matrix\")\n",
        "plt.ylabel(\"Ground Truth\")\n",
        "plt.xlabel(\"Prediction\")"
      ],
      "execution_count": null,
      "outputs": []
    },
    {
      "cell_type": "markdown",
      "metadata": {
        "id": "ewtrplr2Gkle"
      },
      "source": [
        "Through the confusion matrix, we have:\n",
        "\n",
        "- 961 SMS being ham were well predicted: True Negative (TN);\n",
        "- 16 ham SMS have been detected as spam: False Negative (FN);\n",
        "- 2 spam SMS have been detected as ham: False Positive (FP);\n",
        "- 133 spam SMS have been detected as spam: True Positive (TP)."
      ]
    },
    {
      "cell_type": "code",
      "metadata": {
        "id": "sM32HViAGt7o"
      },
      "source": [
        "print(f\"Precision: {precision_score(y_test, preds) * 100:.3f}%\")\n",
        "print(f\"   Recall: {recall_score(y_test, preds) * 100 :.3f}%\")\n",
        "print(f\" Accuracy: {accuracy_score(y_test, preds) * 100:.3f}%\")"
      ],
      "execution_count": null,
      "outputs": []
    },
    {
      "cell_type": "markdown",
      "metadata": {
        "id": "DxXoP_mXG0hh"
      },
      "source": [
        "# **SVM**"
      ]
    },
    {
      "cell_type": "markdown",
      "metadata": {
        "id": "Ex7gFbVNG4P5"
      },
      "source": [
        "Fine-Tuning and Training \n",
        "\n",
        "As we said before, let's use grid search techniques using cross-validation to determine the hyper-parameters of our model and train this model on them:"
      ]
    },
    {
      "cell_type": "code",
      "metadata": {
        "id": "UERhlTnrG8OR"
      },
      "source": [
        "from sklearn.svm import SVC\n",
        "\n",
        "svc = GridSearchCV(\n",
        "    Pipeline(\n",
        "        [\n",
        "            (\"bow\", CountVectorizer()),\n",
        "            (\"tfidf\", TfidfTransformer()),\n",
        "            (\"clf\", SVC(gamma=\"auto\", C=1000)),\n",
        "        ]\n",
        "    ),\n",
        "    dict(tfidf=[None, TfidfTransformer()], clf__C=[500, 1000, 1500]),\n",
        ")\n",
        "svc.fit(X=X_train[\"content\"], y=y_train)"
      ],
      "execution_count": null,
      "outputs": []
    },
    {
      "cell_type": "code",
      "metadata": {
        "id": "6cQIEuKeHAZE"
      },
      "source": [
        "svc.best_params_"
      ],
      "execution_count": null,
      "outputs": []
    },
    {
      "cell_type": "markdown",
      "metadata": {
        "id": "ePQr4K7kHGUr"
      },
      "source": [
        "For our training dataset,  𝐶  must be equal to 1000 and we shouldn't transform the count matrix to a normalized term-frequency (tf) representation or for a term-frequency times inverse document-frequency (tf-idf) representation.\n",
        "\n",
        "In addition, we can get the mean cross-validated score of the estimator that was chosen by the search:"
      ]
    },
    {
      "cell_type": "code",
      "metadata": {
        "id": "oPgjlO3THHQq"
      },
      "source": [
        "print(f\"{svc.best_score_ * 100:.3f}%\") "
      ],
      "execution_count": null,
      "outputs": []
    },
    {
      "cell_type": "markdown",
      "metadata": {
        "id": "7k6KT_vgHMoT"
      },
      "source": [
        "The mean cross-validated score is therefore 98.111%"
      ]
    },
    {
      "cell_type": "markdown",
      "metadata": {
        "id": "gI9hJ9BZHQQl"
      },
      "source": [
        "Measurement of Predictions\n",
        "\n",
        "Predictions\n",
        "Our SVM model being trained, we can now use it to predict if the SMS in our test dataset are spams or not:"
      ]
    },
    {
      "cell_type": "code",
      "metadata": {
        "id": "Gb4lZlb-HOZA"
      },
      "source": [
        "preds = svc.predict(X_test[\"content\"])\n",
        "preds"
      ],
      "execution_count": null,
      "outputs": []
    },
    {
      "cell_type": "markdown",
      "metadata": {
        "id": "SVnoOfnaHW8v"
      },
      "source": [
        "**Confusion Matrix**\n",
        "\n",
        "Using the confusion matrix, measures of the quality of the classification system are given:"
      ]
    },
    {
      "cell_type": "code",
      "metadata": {
        "id": "lfQP2fdHHaqF"
      },
      "source": [
        "plt.figure(figsize=(10, 4))\n",
        "\n",
        "heatmap = sns.heatmap(\n",
        "    data=pd.DataFrame(confusion_matrix(y_test, preds)),\n",
        "    annot=True,\n",
        "    fmt=\"d\",\n",
        "    cmap=sns.color_palette(\"Blues\", 50),\n",
        ")\n",
        "heatmap.xaxis.set_ticklabels(heatmap.xaxis.get_ticklabels(), fontsize=14)\n",
        "heatmap.yaxis.set_ticklabels(\n",
        "    heatmap.yaxis.get_ticklabels(), rotation=0, fontsize=14\n",
        ")\n",
        "\n",
        "plt.title(\"Confusion Matrix\")\n",
        "plt.ylabel(\"Ground Truth\")\n",
        "plt.xlabel(\"Prediction\")"
      ],
      "execution_count": null,
      "outputs": []
    },
    {
      "cell_type": "markdown",
      "metadata": {
        "id": "yXC7dV6hHe1y"
      },
      "source": [
        "Through the confusion matrix, we have:\n",
        "\n",
        "- 960 SMS being ham were well predicted: True Negative (TN);\n",
        "- 16 ham SMS have been detected as spam: False Negative (FN);\n",
        "- 3 spam SMS have been detected as ham: False Positive (FP);\n",
        "- 133 spam SMS have been detected as spam: True Positive (TP)."
      ]
    },
    {
      "cell_type": "markdown",
      "metadata": {
        "id": "mms-Jt5zHn_7"
      },
      "source": [
        "Scores\n",
        "\n",
        "Let's look at the score obtained by the predictions:"
      ]
    },
    {
      "cell_type": "code",
      "metadata": {
        "id": "s94B5uqyHl7j"
      },
      "source": [
        "print(f\"Precision: {precision_score(y_test, preds) * 100:.3f}%\")\n",
        "print(f\"   Recall: {recall_score(y_test, preds) * 100 :.3f}%\")\n",
        "print(f\" Accuracy: {accuracy_score(y_test, preds) * 100:.3f}%\")"
      ],
      "execution_count": null,
      "outputs": []
    }
  ]
}